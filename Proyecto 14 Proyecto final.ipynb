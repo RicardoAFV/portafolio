{
 "cells": [
  {
   "cell_type": "markdown",
   "metadata": {},
   "source": [
    "Hola **Ricardo**!\n",
    "\n",
    "Soy **Patricio Requena** 👋. Es un placer ser el revisor de tu proyecto el día de hoy!\n",
    "\n",
    "Revisaré tu proyecto detenidamente con el objetivo de ayudarte a mejorar y perfeccionar tus habilidades. Durante mi revisión, identificaré áreas donde puedas hacer mejoras en tu código, señalando específicamente qué y cómo podrías ajustar para optimizar el rendimiento y la claridad de tu proyecto. Además, es importante para mí destacar los aspectos que has manejado excepcionalmente bien. Reconocer tus fortalezas te ayudará a entender qué técnicas y métodos están funcionando a tu favor y cómo puedes aplicarlos en futuras tareas. \n",
    "\n",
    "_**Recuerda que al final de este notebook encontrarás un comentario general de mi parte**_, empecemos!\n",
    "\n",
    "Encontrarás mis comentarios dentro de cajas verdes, amarillas o rojas, ⚠️ **por favor, no muevas, modifiques o borres mis comentarios** ⚠️:\n",
    "\n",
    "\n",
    "<div class=\"alert alert-block alert-success\">\n",
    "<b>Comentario del revisor</b> <a class=“tocSkip”></a>\n",
    "Si todo está perfecto.\n",
    "</div>\n",
    "\n",
    "<div class=\"alert alert-block alert-warning\">\n",
    "<b>Comentario del revisor</b> <a class=“tocSkip”></a>\n",
    "Si tu código está bien pero se puede mejorar o hay algún detalle que le hace falta.\n",
    "</div>\n",
    "\n",
    "<div class=\"alert alert-block alert-danger\">\n",
    "<b>Comentario del revisor</b> <a class=“tocSkip”></a>\n",
    "Si de pronto hace falta algo o existe algún problema con tu código o conclusiones.\n",
    "</div>\n",
    "\n",
    "Puedes responderme de esta forma:\n",
    "<div class=\"alert alert-block alert-info\">\n",
    "<b>Respuesta del estudiante</b> <a class=“tocSkip”></a>\n",
    "</div>"
   ]
  },
  {
   "cell_type": "markdown",
   "metadata": {},
   "source": [
    "[Ver presentación en PDF](https://drive.google.com/drive/folders/1hcDAFQrbrstpIm7AIcH3zNZqAqwEbSuG?usp=drive_link)"
   ]
  },
  {
   "cell_type": "markdown",
   "metadata": {},
   "source": [
    "<div class=\"alert alert-block alert-success\">\n",
    "<b>Comentario del revisor (1ra Iteracion)</b> <a class=“tocSkip”></a>\n",
    "\n",
    "Excelente la presentación, expone de manera clara y fácil de entender los hallazgos del análisis, buen trabajo!\n",
    "</div>"
   ]
  },
  {
   "cell_type": "markdown",
   "metadata": {},
   "source": [
    "# Presentacion Final: Identificacion de Operadores Ineficientes\n",
    "\n",
    "## Paso 1: Carga y Exploración Inicial de los Datos\n",
    "\n",
    "Se han cargado dos datasets:\n",
    "\n",
    "- `telecom_dataset_us.csv`: contiene 53,902 registros de llamadas realizadas o recibidas por usuarios del servicio.\n",
    "- `telecom_clients_us.csv`: contiene información de 732 clientes, incluyendo su plan tarifario y fecha de inicio.\n",
    "\n",
    "### Estructura del dataset de llamadas (`telecom_dataset_us.csv`)\n",
    "Este dataset incluye las siguientes columnas clave:\n",
    "\n",
    "- `user_id`: identificador del cliente.\n",
    "- `date`: fecha de la llamada (aún en formato string, se corregirá).\n",
    "- `direction`: dirección de la llamada (`in` o `out`).\n",
    "- `internal`: indica si la llamada fue interna (dentro del sistema).\n",
    "- `operator_id`: ID del operador que atendió la llamada (puede estar ausente si fue una llamada perdida).\n",
    "- `is_missed_call`: booleano que indica si fue una llamada perdida.\n",
    "- `calls_count`: número de intentos o repeticiones de la llamada.\n",
    "- `call_duration`: duración efectiva de la llamada (en segundos).\n",
    "- `total_call_duration`: duración total del intento (incluyendo e\n"
   ]
  },
  {
   "cell_type": "code",
   "execution_count": 1,
   "metadata": {},
   "outputs": [],
   "source": [
    "import pandas as pd\n",
    "import numpy as np\n",
    "import matplotlib.pyplot as plt\n",
    "import seaborn as sns\n",
    "from scipy import stats\n",
    "plt.style.use('ggplot')\n",
    "sns.set(font_scale=1.1)\n",
    "import warnings\n",
    "warnings.filterwarnings('ignore')\n"
   ]
  },
  {
   "cell_type": "code",
   "execution_count": 2,
   "metadata": {},
   "outputs": [
    {
     "name": "stdout",
     "output_type": "stream",
     "text": [
      "   user_id                       date direction internal  operator_id  \\\n",
      "0   166377  2019-08-04 00:00:00+03:00        in    False          NaN   \n",
      "1   166377  2019-08-05 00:00:00+03:00       out     True     880022.0   \n",
      "2   166377  2019-08-05 00:00:00+03:00       out     True     880020.0   \n",
      "3   166377  2019-08-05 00:00:00+03:00       out     True     880020.0   \n",
      "4   166377  2019-08-05 00:00:00+03:00       out    False     880022.0   \n",
      "\n",
      "   is_missed_call  calls_count  call_duration  total_call_duration  \n",
      "0            True            2              0                    4  \n",
      "1            True            3              0                    5  \n",
      "2            True            1              0                    1  \n",
      "3           False            1             10                   18  \n",
      "4            True            3              0                   25  \n",
      "   user_id tariff_plan  date_start\n",
      "0   166713           A  2019-08-15\n",
      "1   166901           A  2019-08-23\n",
      "2   168527           A  2019-10-29\n",
      "3   167097           A  2019-09-01\n",
      "4   168193           A  2019-10-16\n",
      "<class 'pandas.core.frame.DataFrame'>\n",
      "RangeIndex: 53902 entries, 0 to 53901\n",
      "Data columns (total 9 columns):\n",
      " #   Column               Non-Null Count  Dtype  \n",
      "---  ------               --------------  -----  \n",
      " 0   user_id              53902 non-null  int64  \n",
      " 1   date                 53902 non-null  object \n",
      " 2   direction            53902 non-null  object \n",
      " 3   internal             53785 non-null  object \n",
      " 4   operator_id          45730 non-null  float64\n",
      " 5   is_missed_call       53902 non-null  bool   \n",
      " 6   calls_count          53902 non-null  int64  \n",
      " 7   call_duration        53902 non-null  int64  \n",
      " 8   total_call_duration  53902 non-null  int64  \n",
      "dtypes: bool(1), float64(1), int64(4), object(3)\n",
      "memory usage: 3.3+ MB\n",
      "<class 'pandas.core.frame.DataFrame'>\n",
      "RangeIndex: 732 entries, 0 to 731\n",
      "Data columns (total 3 columns):\n",
      " #   Column       Non-Null Count  Dtype \n",
      "---  ------       --------------  ----- \n",
      " 0   user_id      732 non-null    int64 \n",
      " 1   tariff_plan  732 non-null    object\n",
      " 2   date_start   732 non-null    object\n",
      "dtypes: int64(1), object(2)\n",
      "memory usage: 17.3+ KB\n"
     ]
    },
    {
     "data": {
      "text/html": [
       "<div>\n",
       "<style scoped>\n",
       "    .dataframe tbody tr th:only-of-type {\n",
       "        vertical-align: middle;\n",
       "    }\n",
       "\n",
       "    .dataframe tbody tr th {\n",
       "        vertical-align: top;\n",
       "    }\n",
       "\n",
       "    .dataframe thead th {\n",
       "        text-align: right;\n",
       "    }\n",
       "</style>\n",
       "<table border=\"1\" class=\"dataframe\">\n",
       "  <thead>\n",
       "    <tr style=\"text-align: right;\">\n",
       "      <th></th>\n",
       "      <th>user_id</th>\n",
       "    </tr>\n",
       "  </thead>\n",
       "  <tbody>\n",
       "    <tr>\n",
       "      <th>count</th>\n",
       "      <td>732.000000</td>\n",
       "    </tr>\n",
       "    <tr>\n",
       "      <th>mean</th>\n",
       "      <td>167431.927596</td>\n",
       "    </tr>\n",
       "    <tr>\n",
       "      <th>std</th>\n",
       "      <td>633.810383</td>\n",
       "    </tr>\n",
       "    <tr>\n",
       "      <th>min</th>\n",
       "      <td>166373.000000</td>\n",
       "    </tr>\n",
       "    <tr>\n",
       "      <th>25%</th>\n",
       "      <td>166900.750000</td>\n",
       "    </tr>\n",
       "    <tr>\n",
       "      <th>50%</th>\n",
       "      <td>167432.000000</td>\n",
       "    </tr>\n",
       "    <tr>\n",
       "      <th>75%</th>\n",
       "      <td>167973.000000</td>\n",
       "    </tr>\n",
       "    <tr>\n",
       "      <th>max</th>\n",
       "      <td>168606.000000</td>\n",
       "    </tr>\n",
       "  </tbody>\n",
       "</table>\n",
       "</div>"
      ],
      "text/plain": [
       "             user_id\n",
       "count     732.000000\n",
       "mean   167431.927596\n",
       "std       633.810383\n",
       "min    166373.000000\n",
       "25%    166900.750000\n",
       "50%    167432.000000\n",
       "75%    167973.000000\n",
       "max    168606.000000"
      ]
     },
     "execution_count": 2,
     "metadata": {},
     "output_type": "execute_result"
    }
   ],
   "source": [
    "llamadas = pd.read_csv('telecom_dataset_us.csv')\n",
    "clientes = pd.read_csv('telecom_clients_us.csv')\n",
    "\n",
    "print(llamadas.head())\n",
    "print(clientes.head())\n",
    "\n",
    "llamadas.info()\n",
    "clientes.info()\n",
    "\n",
    "llamadas.describe()\n",
    "clientes.describe()\n"
   ]
  },
  {
   "cell_type": "markdown",
   "metadata": {},
   "source": [
    "## Paso 2: Limpieza y Preparación de los Datos\n",
    "\n",
    "### Conversión de tipos de datos\n",
    "\n",
    "- La columna `date` del dataset de llamadas fue convertida correctamente a formato `datetime`, permitiendo un análisis temporal preciso.\n",
    "- De igual forma, la columna `date_start` en el dataset de clientes fue transformada a tipo fecha.\n",
    "- La columna `internal`, que indicaba si la llamada era interna, fue convertida a formato booleano.\n",
    "\n",
    "### Manejo de valores ausentes\n",
    "\n",
    "- Se detectaron valores nulos principalmente en las columnas `internal` y `operator_id`. \n",
    "  - Los valores nulos en `operator_id` son esperables en llamadas perdidas (`is_missed_call = True`), por lo tanto no se imputan.\n",
    "  - Los valores faltantes en `internal` representan un pequeño porcentaje y podrían tratarse según se necesite más adelante (por ejemplo, excluyéndose en ciertas visualizaciones).\n",
    "\n",
    "### Unión de datasets\n",
    "\n",
    "Los datasets `llamadas` y `clientes` fueron unidos utilizando `user_id` como clave. Se aplicó una unión del tipo `left`, conservando todos los registros de llamadas, incluso si algunos usuarios no están en el dataset de clientes (lo cual podría ser útil para identificar llamadas anómalas o registros sin cliente asignado).\n",
    "\n",
    "El nuevo dataset combinado, llamado `df`, tiene una estructura integrada que permite realizar análisis tanto de comportamiento en llamadas como de contexto del cliente.\n",
    "\n"
   ]
  },
  {
   "cell_type": "code",
   "execution_count": 3,
   "metadata": {},
   "outputs": [
    {
     "name": "stdout",
     "output_type": "stream",
     "text": [
      "Valores nulos en llamadas:\n",
      " user_id                   0\n",
      "date                      0\n",
      "direction                 0\n",
      "internal                  0\n",
      "operator_id            8172\n",
      "is_missed_call            0\n",
      "calls_count               0\n",
      "call_duration             0\n",
      "total_call_duration       0\n",
      "dtype: int64\n",
      "\n",
      "Valores nulos en clientes:\n",
      " user_id        0\n",
      "tariff_plan    0\n",
      "date_start     0\n",
      "dtype: int64\n"
     ]
    },
    {
     "data": {
      "text/plain": [
       "(49002, 11)"
      ]
     },
     "execution_count": 3,
     "metadata": {},
     "output_type": "execute_result"
    }
   ],
   "source": [
    "llamadas['date'] = pd.to_datetime(llamadas['date'], errors='coerce')\n",
    "clientes['date_start'] = pd.to_datetime(clientes['date_start'], errors='coerce')\n",
    "llamadas['internal'] = llamadas['internal'].astype('bool', errors='ignore')\n",
    "\n",
    "print(\"Valores nulos en llamadas:\\n\", llamadas.isnull().sum())\n",
    "print(\"\\nValores nulos en clientes:\\n\", clientes.isnull().sum())\n",
    "\n",
    "llamadas.drop_duplicates(inplace=True)\n",
    "clientes.drop_duplicates(inplace=True)\n",
    "\n",
    "df = llamadas.merge(clientes, on='user_id', how='left')\n",
    "\n",
    "df.shape\n"
   ]
  },
  {
   "cell_type": "markdown",
   "metadata": {},
   "source": [
    "### Resultados de la Limpieza de Datos\n",
    "\n",
    "Al analizar los valores nulos de ambos datasets se encontraron los siguientes resultados:\n",
    "\n",
    "#### Dataset de llamadas\n",
    "- No se encontraron valores nulos en columnas clave como `user_id`, `date`, `direction`, `call_duration` o `is_missed_call`.\n",
    "- La columna `operator_id` presenta **8,172 valores nulos**, lo cual es **esperado** ya que muchas de estas llamadas corresponden a intentos fallidos o llamadas perdidas que nunca fueron atendidas por un operador.\n",
    "\n",
    "#### Dataset de clientes\n",
    "- No se encontraron valores ausentes. Todos los registros están completos en cuanto a `user_id`, `tariff_plan` y `date_start`.\n",
    "\n",
    "Con esta revisión completada, se garantiza que los datos están en buen estado para proceder al análisis exploratorio.\n",
    "\n",
    "---\n",
    "\n",
    "A continuación, se pasará al **Análisis Exploratorio de Datos (EDA)** para calcular métricas generales e identificar patrones de uso.\n",
    "\n"
   ]
  },
  {
   "cell_type": "markdown",
   "metadata": {},
   "source": [
    "<div class=\"alert alert-block alert-success\">\n",
    "<b>Comentario del revisor (1ra Iteracion)</b> <a class=“tocSkip”></a>\n",
    "\n",
    "Buen trabajo, realizaste el procesamiento y revisión de tus datos correctamente. Datos de calidad aseguran que los resultados en los cálculos y métricas sean acertados para realizar el análisis\n",
    "</div>"
   ]
  },
  {
   "cell_type": "markdown",
   "metadata": {},
   "source": [
    "## Paso 3: Análisis Exploratorio de Datos (EDA)"
   ]
  },
  {
   "cell_type": "code",
   "execution_count": 4,
   "metadata": {},
   "outputs": [
    {
     "name": "stdout",
     "output_type": "stream",
     "text": [
      "Total de llamadas: 49002\n",
      "Porcentaje de llamadas perdidas: 43.78%\n",
      "Duración promedio de llamadas atendidas: 1540.01 segundos\n",
      "Tiempo de espera promedio: 290.28 segundos\n"
     ]
    }
   ],
   "source": [
    "total_llamadas = df.shape[0]\n",
    "\n",
    "porcentaje_perdidas = df['is_missed_call'].mean() * 100\n",
    "\n",
    "duracion_promedio = df.loc[~df['is_missed_call'], 'call_duration'].mean()\n",
    "\n",
    "df['tiempo_espera'] = df['total_call_duration'] - df['call_duration']\n",
    "espera_promedio = df['tiempo_espera'].mean()\n",
    "\n",
    "print(f\"Total de llamadas: {total_llamadas}\")\n",
    "print(f\"Porcentaje de llamadas perdidas: {porcentaje_perdidas:.2f}%\")\n",
    "print(f\"Duración promedio de llamadas atendidas: {duracion_promedio:.2f} segundos\")\n",
    "print(f\"Tiempo de espera promedio: {espera_promedio:.2f} segundos\")\n"
   ]
  },
  {
   "cell_type": "code",
   "execution_count": 5,
   "metadata": {},
   "outputs": [
    {
     "data": {
      "image/png": "[encoded data removed]",
      "text/plain": [
       "<Figure size 1000x600 with 1 Axes>"
      ]
     },
     "metadata": {},
     "output_type": "display_data"
    }
   ],
   "source": [
    "llamadas_atendidas = df[~df['is_missed_call']]\n",
    "\n",
    "plt.figure(figsize=(10, 6))\n",
    "sns.histplot(llamadas_atendidas['call_duration'], bins=50, kde=True)\n",
    "plt.title('Distribución de la duración de llamadas atendidas')\n",
    "plt.xlabel('Duración de llamada (segundos)')\n",
    "plt.ylabel('Cantidad de llamadas')\n",
    "plt.tight_layout()\n",
    "plt.show()\n"
   ]
  },
  {
   "cell_type": "markdown",
   "metadata": {},
   "source": [
    "### Visualización 1: Histograma de la Duración de Llamadas Atendidas\n",
    "\n",
    "Se generó un histograma para visualizar cómo se distribuye la duración de las llamadas que sí fueron atendidas por los operadores.\n",
    "\n",
    "#### Observaciones:\n",
    "\n",
    "- La mayoría de las llamadas tienen una duración **relativamente corta**, concentrándose entre los **0 y 5,000 segundos**.\n",
    "- Se observan algunos **valores atípicos o outliers** que superan incluso los **100,000 segundos** (~28 horas), lo cual podría ser resultado de errores en el sistema de registro o llamadas inactivas no colgadas correctamente.\n",
    "- La distribución es claramente **asimétrica (sesgada a la derecha)**, un patrón común en este tipo de datos."
   ]
  },
  {
   "cell_type": "code",
   "execution_count": 6,
   "metadata": {},
   "outputs": [
    {
     "data": {
      "image/png": "[encoded data removed]",
      "text/plain": [
       "<Figure size 600x600 with 1 Axes>"
      ]
     },
     "metadata": {},
     "output_type": "display_data"
    }
   ],
   "source": [
    "conteo_llamadas = df['internal'].value_counts()\n",
    "\n",
    "plt.figure(figsize=(6, 6))\n",
    "plt.pie(conteo_llamadas, labels=['Externas', 'Internas'], autopct='%1.1f%%', startangle=90)\n",
    "plt.title('Proporción de llamadas internas vs externas')\n",
    "plt.axis('equal')  # Mantener forma circular\n",
    "plt.show()\n"
   ]
  },
  {
   "cell_type": "markdown",
   "metadata": {},
   "source": [
    "### Visualización 2: Proporción de Llamadas Internas vs Externas\n",
    "\n",
    "Se generó un gráfico circular para analizar el tipo de llamadas registradas, clasificadas como:\n",
    "\n",
    "- **Llamadas internas**: entre empleados o dentro de la red de la empresa.\n",
    "- **Llamadas externas**: hacia o desde clientes.\n",
    "\n",
    "#### Resultados:\n",
    "\n",
    "- **Externas**: 88.2%\n",
    "- **Internas**: 11.8%\n",
    "\n",
    "Esto indica que la gran mayoría de las llamadas gestionadas por los operadores son **hacia o desde clientes**, lo que confirma que el centro de atención se enfoca principalmente en servicio externo. Las llamadas internas podrían representar coordinaciones entre operadores o transferencias internas."
   ]
  },
  {
   "cell_type": "code",
   "execution_count": 7,
   "metadata": {},
   "outputs": [
    {
     "data": {
      "image/png": "[encoded data removed]",
      "text/plain": [
       "<Figure size 1200x600 with 1 Axes>"
      ]
     },
     "metadata": {},
     "output_type": "display_data"
    }
   ],
   "source": [
    "df['fecha_solo_dia'] = df['date'].dt.date\n",
    "\n",
    "llamadas_por_dia = df.groupby('fecha_solo_dia').size()\n",
    "\n",
    "plt.figure(figsize=(12, 6))\n",
    "sns.histplot(llamadas_por_dia, bins=30, kde=False)\n",
    "plt.title('Distribución del número de llamadas por día')\n",
    "plt.xlabel('Cantidad de llamadas')\n",
    "plt.ylabel('Número de días')\n",
    "plt.tight_layout()\n",
    "plt.show()\n"
   ]
  },
  {
   "cell_type": "markdown",
   "metadata": {},
   "source": [
    "### Visualización 3: Distribución del Número de Llamadas por Día\n",
    "\n",
    "Este histograma muestra cuántas llamadas se realizaron por día a lo largo del periodo analizado.\n",
    "\n",
    "#### Observaciones:\n",
    "\n",
    "- Hay una **gran variabilidad** en la actividad diaria del centro de atención.\n",
    "- Algunos días tuvieron **menos de 200 llamadas**, mientras que en otros se registraron **más de 1,000 llamadas**.\n",
    "- La distribución es **asimétrica** y muestra que hay días con tráfico extremadamente alto, lo cual podría deberse a campañas específicas, fallos del sistema, o acumulación de llamadas.\n",
    "- No hay una frecuencia constante, lo cual indica que el volumen de trabajo diario puede ser muy desigual."
   ]
  },
  {
   "cell_type": "code",
   "execution_count": 8,
   "metadata": {},
   "outputs": [
    {
     "data": {
      "image/png": "[encoded data removed]",
      "text/plain": [
       "<Figure size 1400x600 with 1 Axes>"
      ]
     },
     "metadata": {},
     "output_type": "display_data"
    }
   ],
   "source": [
    "llamadas_con_operador = df[~df['operator_id'].isna()]\n",
    "\n",
    "llamadas_por_operador = llamadas_con_operador['operator_id'].value_counts()\n",
    "\n",
    "plt.figure(figsize=(14, 6))\n",
    "sns.histplot(llamadas_por_operador, bins=40, kde=False)\n",
    "plt.title('Distribución de llamadas atendidas por operador')\n",
    "plt.xlabel('Número de llamadas')\n",
    "plt.ylabel('Cantidad de operadores')\n",
    "plt.tight_layout()\n",
    "plt.show()\n"
   ]
  },
  {
   "cell_type": "markdown",
   "metadata": {},
   "source": [
    "### Visualización 4: Distribución de Llamadas Atendidas por Operador\n",
    "\n",
    "Se graficó cuántas llamadas atendió cada operador durante el período analizado.\n",
    "\n",
    "#### Observaciones:\n",
    "\n",
    "- **La mayoría de los operadores (más de 400)** atendieron menos de **20 llamadas**.\n",
    "- Existen algunos operadores que atendieron más de 100 llamadas, e incluso unos pocos superan las **200 llamadas**, aunque son casos excepcionales.\n",
    "- La distribución es **altamente desigual**, con una **concentración muy fuerte en los valores bajos** y una cola larga hacia la derecha."
   ]
  },
  {
   "cell_type": "markdown",
   "metadata": {},
   "source": [
    "Se calcularon algunas métricas generales para entender el comportamiento de las llamadas dentro del servicio de atención al cliente.\n",
    "\n",
    "### Métricas Globales\n",
    "\n",
    "- * Total de llamadas registradas: 49,002\n",
    "- * Porcentaje de llamadas perdidas: 43.78%\n",
    "  - Casi la mitad de las llamadas no fueron atendidas, lo que sugiere un área crítica a investigar.\n",
    "- * Duración promedio de llamadas atendidas: 1,540 segundos (~25.7 minutos)\n",
    "  - Esto podría indicar llamadas largas o complejas. Se analizarán más adelante por operador.\n",
    "- * Tiempo de espera promedio antes de ser atendido: 290.28 segundos (~4.8 minutos)\n",
    "  - Un tiempo de espera relativamente alto que puede impactar negativamente la satisfacción del cliente.\n",
    "\n",
    "Estas métricas iniciales permiten detectar cuellos de botella y evaluar la eficiencia operativa general del centro de llamadas. A continuación, se realizarán visualizaciones para entender la distribución de llamadas por tipo, duración, y frecuencia.\n"
   ]
  },
  {
   "cell_type": "markdown",
   "metadata": {},
   "source": [
    "## Conclusión del Análisis Exploratorio de Datos (EDA)\n",
    "\n",
    "El análisis exploratorio permitió obtener una visión general del funcionamiento del centro de llamadas. A partir de las métricas y visualizaciones se destacan los siguientes hallazgos clave:\n",
    "\n",
    "- **Alta tasa de llamadas perdidas (43.78%)**, lo cual representa un posible problema de capacidad o eficiencia operativa.\n",
    "- Las llamadas atendidas tienen una **duración promedio elevada** (~25 minutos), con muchos casos extremos que podrían requerir revisión.\n",
    "- El **tiempo de espera promedio** antes de ser atendido es de casi **5 minutos**, lo que podría impactar negativamente la experiencia del cliente.\n",
    "- La **mayoría de las llamadas son externas (88.2%)**, confirmando que el foco principal es la atención al cliente externo.\n",
    "- Se observa una **alta variabilidad en el volumen de llamadas por día**, con días muy activos y otros más tranquilos, lo que sugiere cargas laborales irregulares.\n",
    "- La **distribución de llamadas entre operadores es muy desigual**: la mayoría atiende pocas llamadas, mientras que unos pocos concentran la mayoría de la carga.\n",
    "\n",
    "> Estos patrones preliminares refuerzan la necesidad de profundizar en hipótesis específicas sobre la eficiencia de los operadores, tiempos de espera y llamadas perdidas, lo cual se abordará en el siguiente paso del proyecto.\n"
   ]
  },
  {
   "cell_type": "markdown",
   "metadata": {},
   "source": [
    "<div class=\"alert alert-block alert-success\">\n",
    "<b>Comentario del revisor (1ra Iteracion)</b> <a class=“tocSkip”></a>\n",
    "\n",
    "Tienes un EDA súper claro, analizaste cada parte del dataset para comunicar el análisis en cada una de las gráficas realizadas, te felicito!\n",
    "</div>"
   ]
  },
  {
   "cell_type": "markdown",
   "metadata": {},
   "source": [
    "## Paso 4: Pruebas Estadísticas\n",
    "\n",
    "Luego de identificar patrones preocupantes en el comportamiento de ciertos operadores mediante el análisis exploratorio y la formulación de hipótesis, es necesario aplicar pruebas estadísticas para determinar si estas diferencias observadas son **estadísticamente significativas** o podrían deberse al azar.\n",
    "\n",
    "### Objetivo de este paso:\n",
    "- Comparar grupos de operadores según su desempeño (por ejemplo, operadores con alta tasa de llamadas perdidas vs. operadores con baja tasa).\n",
    "- Evaluar si existen **diferencias significativas en el tiempo de espera**, la **duración de llamadas**, o la **cantidad de llamadas salientes**.\n",
    "- Utilizar pruebas como **t-test**, **ANOVA**, o pruebas no paramétricas en función de la distribución de los datos y la cantidad de grupos.\n",
    "\n",
    "Estas pruebas permitirán respaldar con evidencia cuantitativa las hipótesis planteadas y facilitarán la toma de decisiones basadas en datos.\n"
   ]
  },
  {
   "cell_type": "markdown",
   "metadata": {},
   "source": [
    "## Hipótesis 1: Operadores con Alta Tasa de Llamadas Perdidas\n",
    "\n",
    "### Objetivo\n",
    "Evaluar si existen operadores que ignoran o no responden un número significativo de llamadas entrantes, lo cual podría indicar bajo rendimiento o evasión de tareas."
   ]
  },
  {
   "cell_type": "code",
   "execution_count": 9,
   "metadata": {},
   "outputs": [
    {
     "data": {
      "text/plain": [
       "operator_id\n",
       "948756.0    1.000000\n",
       "957922.0    0.500000\n",
       "904344.0    0.500000\n",
       "937898.0    0.500000\n",
       "913886.0    0.500000\n",
       "934098.0    0.400000\n",
       "919206.0    0.368421\n",
       "940622.0    0.357143\n",
       "937432.0    0.333333\n",
       "894232.0    0.333333\n",
       "Name: is_missed_call, dtype: float64"
      ]
     },
     "execution_count": 9,
     "metadata": {},
     "output_type": "execute_result"
    }
   ],
   "source": [
    "llamadas_in = df[(df['direction'] == 'in') & (~df['operator_id'].isna())]\n",
    "\n",
    "porcentaje_perdidas_operador = llamadas_in.groupby('operator_id')['is_missed_call'].mean().sort_values(ascending=False)\n",
    "\n",
    "porcentaje_perdidas_operador.head(10)\n"
   ]
  },
  {
   "cell_type": "markdown",
   "metadata": {},
   "source": [
    "### Análisis Realizado\n",
    "Se filtraron únicamente las llamadas **entrantes (`direction = 'in'`)** con un operador asignado, y se calculó el porcentaje de llamadas perdidas (`is_missed_call = True`) por cada operador.\n",
    "\n",
    "### Resultados – Top 10 operadores con mayor tasa de pérdidas:\n",
    "\n",
    "| ID Operador | % Llamadas Perdidas |\n",
    "|-------------|----------------------|\n",
    "| 948756.0    | 100.0%               |\n",
    "| 957922.0    | 50.0%                |\n",
    "| 904344.0    | 50.0%                |\n",
    "| 937898.0    | 50.0%                |\n",
    "| 913886.0    | 50.0%                |\n",
    "| 934098.0    | 40.0%                |\n",
    "| 919206.0    | 36.8%                |\n",
    "| 940622.0    | 35.7%                |\n",
    "| 937432.0    | 33.3%                |\n",
    "| 894232.0    | 33.3%                |\n",
    "\n",
    "### Conclusión Preliminar\n",
    "Se identifican operadores con **tasas preocupantemente altas de llamadas perdidas**, incluyendo un caso extremo con el **100% de sus llamadas entrantes no atendidas**.\n",
    "\n",
    "> Estos resultados respaldan la hipótesis y justifican una revisión detallada del comportamiento de estos operadores."
   ]
  },
  {
   "cell_type": "markdown",
   "metadata": {},
   "source": [
    "## Hipótesis 2: Operadores con Tiempo de Espera Prolongado\n",
    "\n",
    "### Objetivo\n",
    "Detectar operadores que, aunque sí atienden las llamadas, hacen esperar demasiado al cliente antes de responder. Esto puede ser un indicador de baja eficiencia o saturación de tareas."
   ]
  },
  {
   "cell_type": "code",
   "execution_count": 10,
   "metadata": {},
   "outputs": [
    {
     "data": {
      "text/plain": [
       "operator_id\n",
       "885890.0    4411.072368\n",
       "945278.0    4351.047619\n",
       "925922.0    4315.069767\n",
       "885876.0    3895.458333\n",
       "929426.0    2582.451613\n",
       "945286.0    2515.714286\n",
       "908640.0    2419.409091\n",
       "929428.0    2350.757576\n",
       "945904.0    2103.833333\n",
       "919364.0    2054.600000\n",
       "Name: tiempo_espera, dtype: float64"
      ]
     },
     "execution_count": 10,
     "metadata": {},
     "output_type": "execute_result"
    }
   ],
   "source": [
    "llamadas_atendidas = df[(df['is_missed_call'] == False) & (~df['operator_id'].isna())]\n",
    "\n",
    "espera_por_operador = llamadas_atendidas.groupby('operator_id')['tiempo_espera'].mean().sort_values(ascending=False)\n",
    "\n",
    "espera_por_operador.head(10)\n"
   ]
  },
  {
   "cell_type": "markdown",
   "metadata": {},
   "source": [
    "### Análisis Realizado\n",
    "Se filtraron las llamadas **atendidas (`is_missed_call = False`)** con operador asignado y se calculó el **tiempo de espera promedio** por operador. El tiempo de espera se definió como la diferencia entre `total_call_duration` y `call_duration`.\n",
    "\n",
    "### Resultados – Top 10 operadores con mayor tiempo de espera promedio:\n",
    "\n",
    "| ID Operador | Tiempo de Espera Promedio (segundos) |\n",
    "|-------------|---------------------------------------|\n",
    "| 885890.0    | 4411.07                               |\n",
    "| 945278.0    | 4351.05                               |\n",
    "| 925922.0    | 4315.07                               |\n",
    "| 885876.0    | 3895.46                               |\n",
    "| 929426.0    | 2582.45                               |\n",
    "| 945286.0    | 2515.71                               |\n",
    "| 908640.0    | 2419.41                               |\n",
    "| 929428.0    | 2350.76                               |\n",
    "| 945904.0    | 2103.83                               |\n",
    "| 919364.0    | 2054.60                               |\n",
    "\n",
    "### Conclusión Preliminar\n",
    "Se identificaron operadores cuyo tiempo promedio de espera **supera los 2,000 segundos** (~30 minutos), con algunos casos extremos por encima de los **4,000 segundos**. Esto sugiere posibles **problemas de eficiencia**, retrasos prolongados antes de atender, o anomalías en el sistema de registro.\n",
    "\n",
    "> Este hallazgo valida la hipótesis y refuerza la necesidad de investigar estos casos para mejorar la experiencia del cliente."
   ]
  },
  {
   "cell_type": "markdown",
   "metadata": {},
   "source": [
    "## Hipótesis 3: Operadores con Pocas Llamadas Salientes\n",
    "\n",
    "### Objetivo\n",
    "Detectar operadores cuya actividad en llamadas salientes es mínima. Esto puede indicar baja productividad, falta de tareas asignadas o una mala distribución del trabajo operativo."
   ]
  },
  {
   "cell_type": "code",
   "execution_count": 11,
   "metadata": {},
   "outputs": [
    {
     "data": {
      "text/plain": [
       "operator_id\n",
       "945074.0    1\n",
       "930692.0    1\n",
       "958458.0    1\n",
       "930326.0    1\n",
       "944246.0    1\n",
       "955086.0    1\n",
       "928284.0    1\n",
       "944560.0    1\n",
       "945058.0    1\n",
       "937772.0    1\n",
       "dtype: int64"
      ]
     },
     "execution_count": 11,
     "metadata": {},
     "output_type": "execute_result"
    }
   ],
   "source": [
    "llamadas_out = df[(df['direction'] == 'out') & (~df['operator_id'].isna())]\n",
    "\n",
    "llamadas_out_por_operador = llamadas_out.groupby('operator_id').size().sort_values()\n",
    "\n",
    "llamadas_out_por_operador.head(10)\n"
   ]
  },
  {
   "cell_type": "markdown",
   "metadata": {},
   "source": [
    "### Análisis Realizado\n",
    "Se filtraron todas las llamadas **salientes (`direction = 'out'`)** con operador asignado. Luego, se contó cuántas llamadas realizó cada operador.\n",
    "\n",
    "### Resultados – Top 10 operadores con menos llamadas salientes:\n",
    "\n",
    "| ID Operador | Llamadas Salientes |\n",
    "|-------------|---------------------|\n",
    "| 945074.0    | 1                   |\n",
    "| 930692.0    | 1                   |\n",
    "| 958458.0    | 1                   |\n",
    "| 930326.0    | 1                   |\n",
    "| 944246.0    | 1                   |\n",
    "| 955086.0    | 1                   |\n",
    "| 928284.0    | 1                   |\n",
    "| 944560.0    | 1                   |\n",
    "| 945058.0    | 1                   |\n",
    "| 937772.0    | 1                   |\n",
    "\n",
    "### Conclusión Preliminar\n",
    "Se identificaron múltiples operadores que realizaron **únicamente una llamada saliente** durante todo el período registrado. Este comportamiento puede indicar:\n",
    "\n",
    "- Poca carga de trabajo o mal aprovechamiento de recursos.\n",
    "- Operadores asignados exclusivamente a tareas de recepción (aunque esto debe ser confirmado con contexto adicional).\n",
    "\n",
    "> Este hallazgo valida la hipótesis y puede orientar futuras decisiones sobre redistribución de tareas, revisión de funciones, o posibles intervenciones de capacitación."
   ]
  },
  {
   "cell_type": "markdown",
   "metadata": {},
   "source": [
    "## Paso 4: Pruebas Estadísticas\n",
    "\n",
    "Luego de identificar patrones preocupantes en el comportamiento de ciertos operadores mediante el análisis exploratorio y la formulación de hipótesis, es necesario aplicar pruebas estadísticas para determinar si estas diferencias observadas son **estadísticamente significativas** o podrían deberse al azar.\n",
    "\n",
    "### Objetivo de este paso:\n",
    "- Comparar grupos de operadores según su desempeño (por ejemplo, operadores con alta tasa de llamadas perdidas vs. operadores con baja tasa).\n",
    "- Evaluar si existen **diferencias significativas en el tiempo de espera**, la **duración de llamadas**, o la **cantidad de llamadas salientes**.\n",
    "- Utilizar pruebas como **t-test**, **ANOVA**, o pruebas no paramétricas en función de la distribución de los datos y la cantidad de grupos.\n",
    "\n",
    "Estas pruebas permitirán respaldar con evidencia cuantitativa las hipótesis planteadas y facilitarán la toma de decisiones basadas en datos.\n"
   ]
  },
  {
   "cell_type": "code",
   "execution_count": 12,
   "metadata": {},
   "outputs": [
    {
     "name": "stdout",
     "output_type": "stream",
     "text": [
      "Estadístico t: -4.61\n",
      "Valor p: 0.0006\n"
     ]
    }
   ],
   "source": [
    "# Paso 1: Recalcular la tasa de llamadas perdidas por operador (entrantes con operador)\n",
    "llamadas_in = df[(df['direction'] == 'in') & (~df['operator_id'].isna())]\n",
    "tasa_perdidas = llamadas_in.groupby('operator_id')['is_missed_call'].mean()\n",
    "\n",
    "# Paso 2: Clasificar operadores en alto o bajo\n",
    "grupo_alto = tasa_perdidas[tasa_perdidas > 0.5].index\n",
    "grupo_bajo = tasa_perdidas[tasa_perdidas <= 0.5].index\n",
    "\n",
    "# Paso 3: Extraer el tiempo de espera promedio de cada llamada atendida por grupo\n",
    "llamadas_atendidas = df[(df['is_missed_call'] == False) & (~df['operator_id'].isna())]\n",
    "\n",
    "espera_alto = llamadas_atendidas[llamadas_atendidas['operator_id'].isin(grupo_alto)]['tiempo_espera']\n",
    "espera_bajo = llamadas_atendidas[llamadas_atendidas['operator_id'].isin(grupo_bajo)]['tiempo_espera']\n",
    "\n",
    "from scipy.stats import ttest_ind\n",
    "\n",
    "# Prueba t: ¿los tiempos de espera promedio difieren significativamente?\n",
    "t_stat, p_value = ttest_ind(espera_alto, espera_bajo, equal_var=False)\n",
    "\n",
    "print(f'Estadístico t: {t_stat:.2f}')\n",
    "print(f'Valor p: {p_value:.4f}')\n"
   ]
  },
  {
   "cell_type": "markdown",
   "metadata": {},
   "source": [
    "## Prueba Estadística – Validación de la Hipótesis 1\n",
    "\n",
    "### Objetivo\n",
    "Validar si existe una diferencia significativa en el **tiempo de espera promedio** entre los operadores con alta tasa de llamadas perdidas (> 50%) y aquellos con baja tasa (≤ 50%).\n",
    "\n",
    "### Método\n",
    "Se aplicó una **prueba t de Student para muestras independientes** (`ttest_ind`), comparando los tiempos de espera en llamadas atendidas entre ambos grupos.\n",
    "\n",
    "### Resultados\n",
    "\n",
    "- **Estadístico t**: -4.61\n",
    "- **Valor p**: 0.0006\n",
    "\n",
    "### Interpretación\n",
    "\n",
    "Dado que el valor p es **mucho menor que 0.05**, se rechaza la hipótesis nula de igualdad entre ambos grupos. Esto indica que la diferencia en los tiempos de espera entre operadores con alta y baja tasa de llamadas perdidas es **estadísticamente significativa**.\n",
    "\n",
    "> En términos prácticos, los operadores que pierden más del 50% de sus llamadas tienden también a hacer esperar más a los clientes cuando sí responden, lo que refuerza el diagnóstico de ineficiencia.\n"
   ]
  },
  {
   "cell_type": "code",
   "execution_count": 13,
   "metadata": {},
   "outputs": [
    {
     "name": "stdout",
     "output_type": "stream",
     "text": [
      "Estadístico t: 36.55\n",
      "Valor p: 0.0000\n"
     ]
    }
   ],
   "source": [
    "# Usamos los datos previamente calculados\n",
    "espera_por_operador = llamadas_atendidas.groupby('operator_id')['tiempo_espera'].mean()\n",
    "\n",
    "# Determinar cuartiles\n",
    "q75 = espera_por_operador.quantile(0.75)\n",
    "q25 = espera_por_operador.quantile(0.25)\n",
    "\n",
    "# Operadores con espera muy alta y muy baja\n",
    "grupo_alto_espera = espera_por_operador[espera_por_operador >= q75].index\n",
    "grupo_bajo_espera = espera_por_operador[espera_por_operador <= q25].index\n",
    "\n",
    "# Compararemos la duración promedio de llamadas atendidas entre los dos grupos\n",
    "duracion_alto = llamadas_atendidas[llamadas_atendidas['operator_id'].isin(grupo_alto_espera)]['call_duration']\n",
    "duracion_bajo = llamadas_atendidas[llamadas_atendidas['operator_id'].isin(grupo_bajo_espera)]['call_duration']\n",
    "\n",
    "t_stat2, p_value2 = ttest_ind(duracion_alto, duracion_bajo, equal_var=False)\n",
    "\n",
    "print(f'Estadístico t: {t_stat2:.2f}')\n",
    "print(f'Valor p: {p_value2:.4f}')\n"
   ]
  },
  {
   "cell_type": "markdown",
   "metadata": {},
   "source": [
    "## Prueba Estadística – Validación de la Hipótesis 2\n",
    "\n",
    "### Objetivo\n",
    "Evaluar si los operadores con **tiempos de espera prolongados** tienden a realizar llamadas significativamente más largas que aquellos con tiempos de espera bajos.\n",
    "\n",
    "### Método\n",
    "Se dividió a los operadores en dos grupos con base en su **tiempo de espera promedio**:\n",
    "\n",
    "- **Grupo Alto**: operadores en el 25% superior.\n",
    "- **Grupo Bajo**: operadores en el 25% inferior.\n",
    "\n",
    "Se aplicó una **prueba t de Student para muestras independientes** (`ttest_ind`) sobre la duración de las llamadas atendidas.\n",
    "\n",
    "### Resultados\n",
    "\n",
    "- **Estadístico t**: 36.55  \n",
    "- **Valor p**: 0.0000\n",
    "\n",
    "### Interpretación\n",
    "\n",
    "El valor p es **mucho menor que 0.05**, por lo que se **rechaza la hipótesis nula**. Esto indica que **la diferencia en la duración promedio de las llamadas entre operadores con alta y baja espera es estadísticamente significativa**.\n",
    "\n",
    "> Específicamente, los operadores que hacen esperar más tiempo al cliente también realizan llamadas significativamente más largas. Esto puede reflejar una mala gestión del tiempo, saturación de trabajo o baja eficiencia en la resolución de problemas.\n"
   ]
  },
  {
   "cell_type": "code",
   "execution_count": 14,
   "metadata": {},
   "outputs": [
    {
     "name": "stdout",
     "output_type": "stream",
     "text": [
      "Estadístico t: -25.90\n",
      "Valor p: 0.0000\n"
     ]
    }
   ],
   "source": [
    "# Total de llamadas salientes por operador\n",
    "llamadas_salientes = df[(df['direction'] == 'out') & (~df['operator_id'].isna())]\n",
    "salientes_por_operador = llamadas_salientes.groupby('operator_id').size()\n",
    "\n",
    "# Determinar cuartiles\n",
    "q25_sal = salientes_por_operador.quantile(0.25)\n",
    "q75_sal = salientes_por_operador.quantile(0.75)\n",
    "\n",
    "# Operadores con pocas vs muchas llamadas salientes\n",
    "grupo_bajo_sal = salientes_por_operador[salientes_por_operador <= q25_sal].index\n",
    "grupo_alto_sal = salientes_por_operador[salientes_por_operador >= q75_sal].index\n",
    "\n",
    "# Duración promedio de llamadas atendidas en cada grupo\n",
    "duracion_bajo_sal = llamadas_atendidas[llamadas_atendidas['operator_id'].isin(grupo_bajo_sal)]['call_duration']\n",
    "duracion_alto_sal = llamadas_atendidas[llamadas_atendidas['operator_id'].isin(grupo_alto_sal)]['call_duration']\n",
    "\n",
    "t_stat3, p_value3 = ttest_ind(duracion_bajo_sal, duracion_alto_sal, equal_var=False)\n",
    "\n",
    "print(f'Estadístico t: {t_stat3:.2f}')\n",
    "print(f'Valor p: {p_value3:.4f}')\n",
    "\n"
   ]
  },
  {
   "cell_type": "markdown",
   "metadata": {},
   "source": [
    "## Prueba Estadística – Validación de la Hipótesis 3\n",
    "\n",
    "### Objetivo\n",
    "Evaluar si los operadores que hacen pocas llamadas salientes se comportan de forma significativamente distinta a aquellos que hacen muchas, en cuanto a la duración de sus llamadas atendidas.\n",
    "\n",
    "### Método\n",
    "Se analizaron los operadores con base en su volumen de llamadas salientes:\n",
    "\n",
    "- **Grupo Bajo**: 25% con menos llamadas salientes.\n",
    "- **Grupo Alto**: 25% con más llamadas salientes.\n",
    "\n",
    "Se aplicó una **prueba t de Student para muestras independientes** (`ttest_ind`) sobre la duración de sus llamadas atendidas.\n",
    "\n",
    "### Resultados\n",
    "\n",
    "- **Estadístico t**: -25.90  \n",
    "- **Valor p**: 0.0000\n",
    "\n",
    "### Interpretación\n",
    "\n",
    "Con un valor p prácticamente cero, se **rechaza la hipótesis nula**, indicando que hay una **diferencia estadísticamente significativa** en la duración de llamadas entre ambos grupos.\n",
    "\n",
    "> Los operadores que hacen pocas llamadas salientes tienden a tener **llamadas atendidas más cortas**, lo cual puede indicar menor profundidad en la atención o menos involucramiento en procesos de seguimiento y resolución.\n"
   ]
  },
  {
   "cell_type": "markdown",
   "metadata": {},
   "source": [
    "## Conclusión del Paso 4: Pruebas Estadísticas\n",
    "\n",
    "Se realizaron pruebas estadísticas para validar las hipótesis planteadas sobre el desempeño de los operadores. Los resultados confirmaron con evidencia cuantitativa que existen **diferencias significativas entre grupos de operadores**, lo cual respalda las observaciones realizadas durante el análisis exploratorio.\n",
    "\n",
    "### Resumen de hallazgos:\n",
    "\n",
    "- **Hipótesis 1 – Llamadas perdidas**:  \n",
    "  Los operadores con alta tasa de llamadas perdidas presentan **tiempos de espera significativamente mayores**, lo que refuerza su clasificación como ineficientes.\n",
    "\n",
    "- **Hipótesis 2 – Tiempo de espera prolongado**:  \n",
    "  Los operadores con los mayores tiempos de espera tienden a realizar **llamadas mucho más largas**, lo cual puede reflejar saturación, mala gestión del tiempo o casos complejos.\n",
    "\n",
    "- **Hipótesis 3 – Pocas llamadas salientes**:  \n",
    "  Los operadores con menor volumen de llamadas salientes realizan **llamadas significativamente más cortas**, lo que podría indicar menor participación activa o bajo compromiso con tareas de seguimiento.\n",
    "\n",
    "### Implicaciones\n",
    "Los resultados obtenidos confirman que no todas las diferencias en desempeño son aleatorias, y que es posible identificar **patrones de bajo rendimiento** con base en criterios cuantitativos sólidos. Esto justifica avanzar hacia la **identificación sistemática de operadores ineficaces**, considerando múltiples métricas combinadas.\n"
   ]
  },
  {
   "cell_type": "markdown",
   "metadata": {},
   "source": [
    "<div class=\"alert alert-block alert-success\">\n",
    "<b>Comentario del revisor (1ra Iteracion)</b> <a class=“tocSkip”></a>\n",
    "\n",
    "Correcto, siempre hay que comprobar con pruebas estadísticas que efectivamente exista una diferencia entre los grupos a comparar\n",
    "</div>"
   ]
  },
  {
   "cell_type": "markdown",
   "metadata": {},
   "source": [
    "## Paso 5 – Identificación de Operadores Ineficaces\n",
    "\n",
    "### Objetivo\n",
    "Usar los resultados anteriores para identificar operadores que presentan un desempeño deficiente de forma consistente, combinando múltiples métricas:\n",
    "\n",
    "- Alta tasa de llamadas perdidas (> 50%)\n",
    "\n",
    "- Tiempo de espera promedio alto (top 25%)\n",
    "\n",
    "- Pocas llamadas salientes (bottom 25%)\n",
    "\n",
    "Los operadores que cumplan al menos dos de estos criterios pueden considerarse ineficientes, y los que cumplan los tres, críticos."
   ]
  },
  {
   "cell_type": "code",
   "execution_count": 16,
   "metadata": {},
   "outputs": [
    {
     "name": "stdout",
     "output_type": "stream",
     "text": [
      "Operadores críticos (3 condiciones): 0\n",
      "Operadores ineficientes (≥ 2 condiciones): 15\n",
      "Ejemplo de operadores críticos: []\n",
      "Ejemplo de operadores ineficientes: [952466.0, 951648.0, 898414.0, 896386.0, 925134.0]\n"
     ]
    }
   ],
   "source": [
    "# 1. Recalcular métricas clave por operador\n",
    "llamadas_in = df[(df['direction'] == 'in') & (~df['operator_id'].isna())]\n",
    "llamadas_out = df[(df['direction'] == 'out') & (~df['operator_id'].isna())]\n",
    "llamadas_atendidas = df[(df['is_missed_call'] == False) & (~df['operator_id'].isna())]\n",
    "\n",
    "# Métricas por operador\n",
    "tasa_perdidas = llamadas_in.groupby('operator_id')['is_missed_call'].mean()\n",
    "espera_prom = llamadas_atendidas.groupby('operator_id')['tiempo_espera'].mean()\n",
    "llamadas_out_count = llamadas_out.groupby('operator_id').size()\n",
    "\n",
    "# Cuartiles para definir extremos\n",
    "espera_q75 = espera_prom.quantile(0.75)\n",
    "out_q25 = llamadas_out_count.quantile(0.25)\n",
    "\n",
    "# 2. Crear sets de operadores problemáticos\n",
    "perdidas_altas = set(tasa_perdidas[tasa_perdidas > 0.5].index)\n",
    "espera_alta = set(espera_prom[espera_prom >= espera_q75].index)\n",
    "salientes_bajas = set(llamadas_out_count[llamadas_out_count <= out_q25].index)\n",
    "\n",
    "# 3. Identificar operadores ineficaces\n",
    "operadores_criticos = perdidas_altas & espera_alta & salientes_bajas\n",
    "operadores_ineficientes = (perdidas_altas | espera_alta | salientes_bajas)\n",
    "\n",
    "# 4. Clasificación adicional\n",
    "ineficientes_mas_1 = [\n",
    "    op for op in operadores_ineficientes \n",
    "    if sum([\n",
    "        op in perdidas_altas,\n",
    "        op in espera_alta,\n",
    "        op in salientes_bajas\n",
    "    ]) >= 2\n",
    "]\n",
    "\n",
    "# Cantidad de operadores críticos (cumplen los 3 criterios)\n",
    "print(\"Operadores críticos (3 condiciones):\", len(operadores_criticos))\n",
    "\n",
    "# Cantidad de operadores ineficientes (2 o más condiciones)\n",
    "print(\"Operadores ineficientes (≥ 2 condiciones):\", len(ineficientes_mas_1))\n",
    "\n",
    "# Ver algunos IDs\n",
    "print(\"Ejemplo de operadores críticos:\", list(operadores_criticos)[:5])\n",
    "print(\"Ejemplo de operadores ineficientes:\", ineficientes_mas_1[:5])"
   ]
  },
  {
   "cell_type": "markdown",
   "metadata": {},
   "source": [
    "## Paso 5: Identificación de Operadores Ineficaces\n",
    "\n",
    "### Objetivo\n",
    "Detectar operadores cuyo desempeño general es bajo, usando una combinación de criterios objetivos obtenidos en los pasos anteriores:\n",
    "\n",
    "- **Alta tasa de llamadas perdidas** (> 50%)\n",
    "- **Tiempo de espera prolongado** (top 25%)\n",
    "- **Bajo volumen de llamadas salientes** (bottom 25%)\n",
    "\n",
    "Se considera:\n",
    "- **Operador crítico**: cumple con los **3 criterios simultáneamente**.\n",
    "- **Operador ineficiente**: cumple con **2 o más criterios**.\n",
    "\n",
    "### Resultados\n",
    "\n",
    "- **Operadores críticos (3 condiciones):** 0  \n",
    "- **Operadores ineficientes (2 condiciones):** 15  \n",
    "- Ejemplos de operadores ineficientes:  \n",
    "  `952466.0`, `951648.0`, `898414.0`, `896386.0`, `925134.0`\n",
    "\n",
    "### Conclusión\n",
    "\n",
    "Aunque no se detectaron operadores críticos que incumplan los tres criterios simultáneamente, sí se identificaron **15 operadores ineficientes** que incumplen **dos de las tres condiciones clave**, lo que representa un foco claro de mejora.\n",
    "\n",
    "> Estos operadores deberían ser priorizados para recibir capacitación, monitoreo adicional o revisión de asignaciones para mejorar su desempeño.\n"
   ]
  },
  {
   "cell_type": "markdown",
   "metadata": {},
   "source": [
    "<div class=\"alert alert-block alert-success\">\n",
    "<b>Comentario del revisor (1ra Iteracion)</b> <a class=“tocSkip”></a>\n",
    "\n",
    "Muy bien! Dejaste claro las métricas a utilizar y por qué se están utilizando para determinar si un operador es eficiente o no. Siempre para este tipo de decisiones/cálculos debes dejarlo redactado para que se entienda el criterio detrás de esto\n",
    "</div>"
   ]
  },
  {
   "cell_type": "markdown",
   "metadata": {},
   "source": [
    "# Conclusión Final del Proyecto\n",
    "\n",
    "Durante este análisis se evaluó el desempeño de los operadores de una empresa de telecomunicaciones con el objetivo de identificar aquellos que muestran **ineficiencia en la atención al cliente**.\n",
    "\n",
    "### Principales hallazgos:\n",
    "\n",
    "- Se realizaron más de **49,000 llamadas**, de las cuales el **43.78% fueron perdidas**, un indicador general de oportunidad de mejora.\n",
    "- El **tiempo de espera promedio** en llamadas atendidas fue de **290 segundos**, con operadores que llegaron a superar los **4,000 segundos** de espera.\n",
    "- Se validaron 3 hipótesis mediante **pruebas estadísticas**, confirmando diferencias significativas entre operadores con bajo y alto desempeño.\n",
    "- Se identificaron **15 operadores ineficientes** que incumplen 2 de los 3 criterios clave: alta tasa de llamadas perdidas, largos tiempos de espera y pocas llamadas salientes.\n",
    "\n",
    "### Recomendaciones:\n",
    "\n",
    "- Implementar un sistema de monitoreo para los operadores ineficientes identificados.\n",
    "- Reforzar la capacitación en gestión del tiempo y resolución eficiente de llamadas.\n",
    "- Evaluar la distribución de tareas para equilibrar la carga entre operadores activos e inactivos.\n",
    "- Establecer alertas automáticas para operadores con métricas críticas en tiempo real.\n",
    "\n",
    "### Conclusión general\n",
    "\n",
    "El análisis permitió identificar patrones de bajo rendimiento con base en datos reales, validar hipótesis con herramientas estadísticas y generar acciones concretas para **mejorar la atención al cliente y optimizar recursos humanos**. Este enfoque basado en datos respalda una toma de decisiones más objetiva y efectiva.\n"
   ]
  },
  {
   "cell_type": "markdown",
   "metadata": {},
   "source": [
    "<div class=\"alert alert-block alert-success\">\n",
    "<b>Comentario general (1ra Iteracion)</b> <a class=“tocSkip”></a>\n",
    "\n",
    "**¡Te felicito por el trabajo realizado Ricardo!** Con este proyecto demuestras las habilidades adquiridas durante tu formación, se nota tu capacidad de contar historias con datos con la excelente presentación realizada que súper fácil de entender lo cual es una habilidad super importante cómo analista de datos, el saber comunicar de manera sencilla y eficiente los resultados de tus análisis.\n",
    "    \n",
    "Se nota mucho el manejo que tienes de las librerías para crear visualizaciones muy buenas que explican correctamente las variables analizadas, te animo a seguir práctica con otros recursos y que vayas construyendo un portafolio de proyectos súper robusto para que seas Data Analyst de primera en el mundo laboral.\n",
    "   \n",
    "Saludos!\n",
    "</div>"
   ]
  }
 ],
 "metadata": {
  "kernelspec": {
   "display_name": "Python 3 (ipykernel)",
   "language": "python",
   "name": "python3"
  },
  "language_info": {
   "codemirror_mode": {
    "name": "ipython",
    "version": 3
   },
   "file_extension": ".py",
   "mimetype": "text/x-python",
   "name": "python",
   "nbconvert_exporter": "python",
   "pygments_lexer": "ipython3",
   "version": "3.9.23"
  }
 },
 "nbformat": 4,
 "nbformat_minor": 4
}
