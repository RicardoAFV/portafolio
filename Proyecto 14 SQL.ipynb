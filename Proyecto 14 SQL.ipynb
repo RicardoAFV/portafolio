{
 "cells": [
  {
   "cell_type": "markdown",
   "metadata": {},
   "source": [
    "<b>¡Hola Ricardo!</b>\n",
    "\n",
    "Mi nombre es Alejandro Abia y tengo el gusto de revisar tu proyecto.\n",
    "\n",
    "A continuación, encontrarás mis comentarios en celdas pintadas de tres colores (verde, amarillo y rojo), a manera de semáforo. Por favor, <b>no las borres ni muevas de posición</b> mientras dure el proceso de revisión.\n",
    "\n",
    "<div class=\"alert alert-block alert-success\">\n",
    "<b>Éxito</b> <a class=\"tocSkip\"></a>\n",
    "En celdas verdes encontrarás comentarios en relación a tus aciertos y fortalezas.\n",
    "</div>\n",
    "<div class=\"alert alert-block alert-warning\">\n",
    "<b>Atención</b> <a class=\"tocSkip\"></a>\n",
    "Utilizaré el color amarillo para llamar tu atención, expresar algo importante o compartirte alguna idea de valor.\n",
    "</div>\n",
    "<div class=\"alert alert-block alert-danger\">\n",
    "<b>A resolver</b> <a class=\"tocSkip\"></a>\n",
    "En rojo emitiré aquellos puntos que podrían impedir que el proyecto se ejecute correctamente. No son errores, sino oportunidades importantes de mejora.\n",
    "</div>\n",
    "<div class=\"alert alert-block alert-info\">\n",
    "<b>Comentario estudiante</b><a class=\"tocSkip\"></a>\n",
    "Si durante la revisión deseas dejarme algún comentario, por favor utiliza celdas azules como esta.\n",
    "</div>\n",
    "Tu proyecto será considerado aprobado cuando las observaciones en rojo hayan sido atendidas.\n",
    "¡Empecemos!\n"
   ]
  },
  {
   "cell_type": "markdown",
   "metadata": {},
   "source": [
    "# Proyecto SQL – Análisis de Plataforma de Lectura\n",
    "\n",
    "## Objetivo del estudio\n",
    "\n",
    "El propósito de este análisis es explorar una base de datos de una aplicación digital de lectura para generar una propuesta de valor que sirva de base para un nuevo producto en el mercado editorial. Se busca comprender el comportamiento de los usuarios, identificar editoriales y autores destacados, y encontrar patrones de participación que puedan guiar decisiones estratégicas.\n",
    "\n",
    "## Descripción de los datos\n",
    "\n",
    "El proyecto se basa en cinco tablas interrelacionadas:\n",
    "\n",
    "- `books`: contiene información sobre los libros, como número de páginas, fecha de publicación y editorial.\n",
    "- `authors`: nombres de autores/as y su identificador.\n",
    "- `publishers`: editoriales registradas.\n",
    "- `ratings`: calificaciones de los usuarios a los libros.\n",
    "- `reviews`: reseñas escritas por los usuarios.\n",
    "\n",
    "## Tareas realizadas\n",
    "\n",
    "- Contar el número de libros publicados después del año 2000.\n",
    "- Calcular la cantidad de reseñas y la calificación promedio por libro.\n",
    "- Identificar la editorial con más libros de más de 50 páginas.\n",
    "- Encontrar el autor mejor calificado (entre aquellos con mínimo 50 calificaciones).\n",
    "- Calcular el promedio de reseñas de texto de usuarios que calificaron más de 50 libros.\n",
    "\n",
    "---\n",
    "\n",
    "Este análisis fue realizado utilizando consultas SQL y la librería `SQLAlchemy` para conectarse a la base de datos, además de `pandas` para presentar los resultados.\n",
    "\n"
   ]
  },
  {
   "cell_type": "code",
   "execution_count": 1,
   "metadata": {},
   "outputs": [],
   "source": [
    "# importar librerías\n",
    "import pandas as pd\n",
    "from sqlalchemy import create_engine\n",
    "\n",
    "\n",
    "db_config = {'user': 'practicum_student',         # nombre de usuario\n",
    "             'pwd': 's65BlTKV3faNIGhmvJVzOqhs', # contraseña\n",
    "             'host': 'rc1b-wcoijxj3yxfsf3fs.mdb.yandexcloud.net',\n",
    "             'port': 6432,              # puerto de conexión\n",
    "             'db': 'data-analyst-final-project-db'}          # nombre de la base de datos\n",
    "\n",
    "connection_string = 'postgresql://{}:{}@{}:{}/{}'.format(db_config['user'],\n",
    "                                                                     db_config['pwd'],\n",
    "                                                                       db_config['host'],\n",
    "                                                                       db_config['port'],\n",
    "                                                                       db_config['db'])\n",
    "\n",
    "engine = create_engine(connection_string, connect_args={'sslmode':'require'})"
   ]
  },
  {
   "cell_type": "markdown",
   "metadata": {},
   "source": [
    "<div class=\"alert alert-block alert-success\">\n",
    "<b>Celda [1]</b> <a class=\"tocSkip\"></a><br>\n",
    "Excelente trabajo configurando la conexión a la base de datos. Has utilizado la librería SQLAlchemy de manera efectiva para establecer una conexión segura mediante SSL. Esto es fundamental para proteger los datos durante la transmisión.\n",
    "</div>\n"
   ]
  },
  {
   "cell_type": "code",
   "execution_count": 2,
   "metadata": {},
   "outputs": [
    {
     "data": {
      "text/html": [
       "<div>\n",
       "<style scoped>\n",
       "    .dataframe tbody tr th:only-of-type {\n",
       "        vertical-align: middle;\n",
       "    }\n",
       "\n",
       "    .dataframe tbody tr th {\n",
       "        vertical-align: top;\n",
       "    }\n",
       "\n",
       "    .dataframe thead th {\n",
       "        text-align: right;\n",
       "    }\n",
       "</style>\n",
       "<table border=\"1\" class=\"dataframe\">\n",
       "  <thead>\n",
       "    <tr style=\"text-align: right;\">\n",
       "      <th></th>\n",
       "      <th>book_id</th>\n",
       "      <th>author_id</th>\n",
       "      <th>title</th>\n",
       "      <th>num_pages</th>\n",
       "      <th>publication_date</th>\n",
       "      <th>publisher_id</th>\n",
       "    </tr>\n",
       "  </thead>\n",
       "  <tbody>\n",
       "    <tr>\n",
       "      <th>0</th>\n",
       "      <td>1</td>\n",
       "      <td>546</td>\n",
       "      <td>'Salem's Lot</td>\n",
       "      <td>594</td>\n",
       "      <td>2005-11-01</td>\n",
       "      <td>93</td>\n",
       "    </tr>\n",
       "    <tr>\n",
       "      <th>1</th>\n",
       "      <td>2</td>\n",
       "      <td>465</td>\n",
       "      <td>1 000 Places to See Before You Die</td>\n",
       "      <td>992</td>\n",
       "      <td>2003-05-22</td>\n",
       "      <td>336</td>\n",
       "    </tr>\n",
       "    <tr>\n",
       "      <th>2</th>\n",
       "      <td>3</td>\n",
       "      <td>407</td>\n",
       "      <td>13 Little Blue Envelopes (Little Blue Envelope...</td>\n",
       "      <td>322</td>\n",
       "      <td>2010-12-21</td>\n",
       "      <td>135</td>\n",
       "    </tr>\n",
       "    <tr>\n",
       "      <th>3</th>\n",
       "      <td>4</td>\n",
       "      <td>82</td>\n",
       "      <td>1491: New Revelations of the Americas Before C...</td>\n",
       "      <td>541</td>\n",
       "      <td>2006-10-10</td>\n",
       "      <td>309</td>\n",
       "    </tr>\n",
       "    <tr>\n",
       "      <th>4</th>\n",
       "      <td>5</td>\n",
       "      <td>125</td>\n",
       "      <td>1776</td>\n",
       "      <td>386</td>\n",
       "      <td>2006-07-04</td>\n",
       "      <td>268</td>\n",
       "    </tr>\n",
       "  </tbody>\n",
       "</table>\n",
       "</div>"
      ],
      "text/plain": [
       "   book_id  author_id                                              title  \\\n",
       "0        1        546                                       'Salem's Lot   \n",
       "1        2        465                 1 000 Places to See Before You Die   \n",
       "2        3        407  13 Little Blue Envelopes (Little Blue Envelope...   \n",
       "3        4         82  1491: New Revelations of the Americas Before C...   \n",
       "4        5        125                                               1776   \n",
       "\n",
       "   num_pages publication_date  publisher_id  \n",
       "0        594       2005-11-01            93  \n",
       "1        992       2003-05-22           336  \n",
       "2        322       2010-12-21           135  \n",
       "3        541       2006-10-10           309  \n",
       "4        386       2006-07-04           268  "
      ]
     },
     "execution_count": 2,
     "metadata": {},
     "output_type": "execute_result"
    }
   ],
   "source": [
    "# Muestro las primeras filas de la tabla books\n",
    "query = 'SELECT * FROM books LIMIT 5;'\n",
    "df_books = pd.read_sql(query, con=engine)\n",
    "df_books\n"
   ]
  },
  {
   "cell_type": "markdown",
   "metadata": {},
   "source": [
    "<div class=\"alert alert-block alert-success\">\n",
    "<b>Celda [2]</b> <a class=\"tocSkip\"></a><br>\n",
    "Buen comienzo al mostrar las primeras filas de la tabla 'books'. Esto te proporciona una visión inicial de la estructura de los datos, lo cual es esencial para planificar los siguientes pasos en el análisis.\n",
    "</div>\n"
   ]
  },
  {
   "cell_type": "markdown",
   "metadata": {},
   "source": [
    "# ¿Cuántos libros se publicaron después del 1 de enero de 2000?"
   ]
  },
  {
   "cell_type": "code",
   "execution_count": 3,
   "metadata": {},
   "outputs": [
    {
     "data": {
      "text/html": [
       "<div>\n",
       "<style scoped>\n",
       "    .dataframe tbody tr th:only-of-type {\n",
       "        vertical-align: middle;\n",
       "    }\n",
       "\n",
       "    .dataframe tbody tr th {\n",
       "        vertical-align: top;\n",
       "    }\n",
       "\n",
       "    .dataframe thead th {\n",
       "        text-align: right;\n",
       "    }\n",
       "</style>\n",
       "<table border=\"1\" class=\"dataframe\">\n",
       "  <thead>\n",
       "    <tr style=\"text-align: right;\">\n",
       "      <th></th>\n",
       "      <th>books_after_2000</th>\n",
       "    </tr>\n",
       "  </thead>\n",
       "  <tbody>\n",
       "    <tr>\n",
       "      <th>0</th>\n",
       "      <td>819</td>\n",
       "    </tr>\n",
       "  </tbody>\n",
       "</table>\n",
       "</div>"
      ],
      "text/plain": [
       "   books_after_2000\n",
       "0               819"
      ]
     },
     "execution_count": 3,
     "metadata": {},
     "output_type": "execute_result"
    }
   ],
   "source": [
    "query = '''\n",
    "SELECT COUNT(*) AS books_after_2000\n",
    "FROM books\n",
    "WHERE publication_date > '2000-01-01';\n",
    "'''\n",
    "\n",
    "books_after_2000 = pd.read_sql(query, con=engine)\n",
    "books_after_2000\n"
   ]
  },
  {
   "cell_type": "markdown",
   "metadata": {},
   "source": [
    "<div class=\"alert alert-block alert-success\">\n",
    "<b>Celda [3]</b> <a class=\"tocSkip\"></a><br>\n",
    "Has utilizado funciones estadísticas de manera efectiva para obtener una visión inicial del conjunto de datos. Este enfoque es útil para comprender rápidamente el contexto y planificar análisis más detallados.\n",
    "</div>\n"
   ]
  },
  {
   "cell_type": "markdown",
   "metadata": {},
   "source": [
    "### Número de libros publicados después del 1 de enero de 2000\n",
    "Se encontraron **819 libros** que fueron publicados después del 1 de enero del año 2000."
   ]
  },
  {
   "cell_type": "markdown",
   "metadata": {},
   "source": [
    "# Encuenta el número de reseñas de usuarios y la calificación promedio para cada libro."
   ]
  },
  {
   "cell_type": "code",
   "execution_count": 4,
   "metadata": {},
   "outputs": [
    {
     "data": {
      "text/html": [
       "<div>\n",
       "<style scoped>\n",
       "    .dataframe tbody tr th:only-of-type {\n",
       "        vertical-align: middle;\n",
       "    }\n",
       "\n",
       "    .dataframe tbody tr th {\n",
       "        vertical-align: top;\n",
       "    }\n",
       "\n",
       "    .dataframe thead th {\n",
       "        text-align: right;\n",
       "    }\n",
       "</style>\n",
       "<table border=\"1\" class=\"dataframe\">\n",
       "  <thead>\n",
       "    <tr style=\"text-align: right;\">\n",
       "      <th></th>\n",
       "      <th>book_id</th>\n",
       "      <th>num_reviews</th>\n",
       "      <th>avg_rating</th>\n",
       "    </tr>\n",
       "  </thead>\n",
       "  <tbody>\n",
       "    <tr>\n",
       "      <th>0</th>\n",
       "      <td>948</td>\n",
       "      <td>160</td>\n",
       "      <td>3.66</td>\n",
       "    </tr>\n",
       "    <tr>\n",
       "      <th>1</th>\n",
       "      <td>750</td>\n",
       "      <td>88</td>\n",
       "      <td>4.13</td>\n",
       "    </tr>\n",
       "    <tr>\n",
       "      <th>2</th>\n",
       "      <td>673</td>\n",
       "      <td>86</td>\n",
       "      <td>3.83</td>\n",
       "    </tr>\n",
       "    <tr>\n",
       "      <th>3</th>\n",
       "      <td>75</td>\n",
       "      <td>84</td>\n",
       "      <td>3.68</td>\n",
       "    </tr>\n",
       "    <tr>\n",
       "      <th>4</th>\n",
       "      <td>302</td>\n",
       "      <td>82</td>\n",
       "      <td>4.41</td>\n",
       "    </tr>\n",
       "  </tbody>\n",
       "</table>\n",
       "</div>"
      ],
      "text/plain": [
       "   book_id  num_reviews  avg_rating\n",
       "0      948          160        3.66\n",
       "1      750           88        4.13\n",
       "2      673           86        3.83\n",
       "3       75           84        3.68\n",
       "4      302           82        4.41"
      ]
     },
     "execution_count": 4,
     "metadata": {},
     "output_type": "execute_result"
    }
   ],
   "source": [
    "query = '''\n",
    "SELECT \n",
    "    book_id,\n",
    "    COUNT(*) AS num_reviews,\n",
    "    ROUND(AVG(rating), 2) AS avg_rating\n",
    "FROM ratings\n",
    "GROUP BY book_id\n",
    "ORDER BY num_reviews DESC;\n",
    "'''\n",
    "\n",
    "book_reviews = pd.read_sql(query, con=engine)\n",
    "book_reviews.head()\n"
   ]
  },
  {
   "cell_type": "markdown",
   "metadata": {},
   "source": [
    "<div class=\"alert alert-block alert-success\">\n",
    "<b>Celda [4]</b> <a class=\"tocSkip\"></a><br>\n",
    "Has calculado el número de reseñas y la calificación promedio para cada libro. \n",
    "</div>\n"
   ]
  },
  {
   "cell_type": "code",
   "execution_count": 5,
   "metadata": {},
   "outputs": [
    {
     "data": {
      "text/html": [
       "<div>\n",
       "<style scoped>\n",
       "    .dataframe tbody tr th:only-of-type {\n",
       "        vertical-align: middle;\n",
       "    }\n",
       "\n",
       "    .dataframe tbody tr th {\n",
       "        vertical-align: top;\n",
       "    }\n",
       "\n",
       "    .dataframe thead th {\n",
       "        text-align: right;\n",
       "    }\n",
       "</style>\n",
       "<table border=\"1\" class=\"dataframe\">\n",
       "  <thead>\n",
       "    <tr style=\"text-align: right;\">\n",
       "      <th></th>\n",
       "      <th>title</th>\n",
       "      <th>book_id</th>\n",
       "      <th>num_reviews</th>\n",
       "      <th>avg_rating</th>\n",
       "    </tr>\n",
       "  </thead>\n",
       "  <tbody>\n",
       "    <tr>\n",
       "      <th>0</th>\n",
       "      <td>Twilight (Twilight  #1)</td>\n",
       "      <td>948</td>\n",
       "      <td>160</td>\n",
       "      <td>3.66</td>\n",
       "    </tr>\n",
       "    <tr>\n",
       "      <th>1</th>\n",
       "      <td>The Hobbit  or There and Back Again</td>\n",
       "      <td>750</td>\n",
       "      <td>88</td>\n",
       "      <td>4.13</td>\n",
       "    </tr>\n",
       "    <tr>\n",
       "      <th>2</th>\n",
       "      <td>The Catcher in the Rye</td>\n",
       "      <td>673</td>\n",
       "      <td>86</td>\n",
       "      <td>3.83</td>\n",
       "    </tr>\n",
       "    <tr>\n",
       "      <th>3</th>\n",
       "      <td>Angels &amp; Demons (Robert Langdon  #1)</td>\n",
       "      <td>75</td>\n",
       "      <td>84</td>\n",
       "      <td>3.68</td>\n",
       "    </tr>\n",
       "    <tr>\n",
       "      <th>4</th>\n",
       "      <td>Harry Potter and the Prisoner of Azkaban (Harr...</td>\n",
       "      <td>302</td>\n",
       "      <td>82</td>\n",
       "      <td>4.41</td>\n",
       "    </tr>\n",
       "  </tbody>\n",
       "</table>\n",
       "</div>"
      ],
      "text/plain": [
       "                                               title  book_id  num_reviews  \\\n",
       "0                            Twilight (Twilight  #1)      948          160   \n",
       "1                The Hobbit  or There and Back Again      750           88   \n",
       "2                             The Catcher in the Rye      673           86   \n",
       "3               Angels & Demons (Robert Langdon  #1)       75           84   \n",
       "4  Harry Potter and the Prisoner of Azkaban (Harr...      302           82   \n",
       "\n",
       "   avg_rating  \n",
       "0        3.66  \n",
       "1        4.13  \n",
       "2        3.83  \n",
       "3        3.68  \n",
       "4        4.41  "
      ]
     },
     "execution_count": 5,
     "metadata": {},
     "output_type": "execute_result"
    }
   ],
   "source": [
    "query = '''\n",
    "SELECT \n",
    "    b.title,\n",
    "    r.book_id,\n",
    "    COUNT(*) AS num_reviews,\n",
    "    ROUND(AVG(r.rating), 2) AS avg_rating\n",
    "FROM ratings AS r\n",
    "JOIN books AS b ON r.book_id = b.book_id\n",
    "GROUP BY r.book_id, b.title\n",
    "ORDER BY num_reviews DESC;\n",
    "'''\n",
    "\n",
    "book_reviews_named = pd.read_sql(query, con=engine)\n",
    "book_reviews_named.head()\n"
   ]
  },
  {
   "cell_type": "markdown",
   "metadata": {},
   "source": [
    "<div class=\"alert alert-block alert-success\">\n",
    "<b>Celda [5]</b> <a class=\"tocSkip\"></a><br>\n",
    "Es excelente que hayas incluido los títulos de los libros en tu análisis de reseñas. Esto no solo facilita la interpretación de los datos, sino que también ayuda a los lectores a conectar los resultados con los libros específicos.\n",
    "</div>\n"
   ]
  },
  {
   "cell_type": "markdown",
   "metadata": {},
   "source": [
    "<div class=\"alert alert-block alert-warning\">\n",
    "<b>Celda [5]</b> <a class=\"tocSkip\"></a><br>\n",
    "Has agrupado adecuadamente los datos por libro y título.\n",
    "</div>\n"
   ]
  },
  {
   "cell_type": "markdown",
   "metadata": {},
   "source": [
    "### Número de reseñas y calificación promedio por libro\n",
    "\n",
    "Estos son los libros con mayor número de reseñas:\n",
    "\n",
    "- **Twilight (Twilight #1)** — 160 reseñas, calificación promedio **3.66**\n",
    "- **The Hobbit or There and Back Again** — 88 reseñas, calificación promedio **4.13**\n",
    "- **The Catcher in the Rye** — 86 reseñas, calificación promedio **3.83**\n",
    "- **Angels & Demons (Robert Langdon #1)** — 84 reseñas, calificación promedio **3.68**\n",
    "- **Harry Potter and the Prisoner of Azkaban (Harry Potter #3)** — 82 reseñas, calificación promedio **4.41**\n",
    "\n",
    "Se utilizó la tabla `ratings` agrupando por `book_id` y realizando un `JOIN` con la tabla `books` para obtener los títulos correspondientes."
   ]
  },
  {
   "cell_type": "markdown",
   "metadata": {},
   "source": [
    "# Identifica la editorial que ha publicado el mayor número de libros con más de 50 páginas"
   ]
  },
  {
   "cell_type": "code",
   "execution_count": 6,
   "metadata": {},
   "outputs": [
    {
     "data": {
      "text/html": [
       "<div>\n",
       "<style scoped>\n",
       "    .dataframe tbody tr th:only-of-type {\n",
       "        vertical-align: middle;\n",
       "    }\n",
       "\n",
       "    .dataframe tbody tr th {\n",
       "        vertical-align: top;\n",
       "    }\n",
       "\n",
       "    .dataframe thead th {\n",
       "        text-align: right;\n",
       "    }\n",
       "</style>\n",
       "<table border=\"1\" class=\"dataframe\">\n",
       "  <thead>\n",
       "    <tr style=\"text-align: right;\">\n",
       "      <th></th>\n",
       "      <th>publisher</th>\n",
       "      <th>num_books</th>\n",
       "    </tr>\n",
       "  </thead>\n",
       "  <tbody>\n",
       "    <tr>\n",
       "      <th>0</th>\n",
       "      <td>Penguin Books</td>\n",
       "      <td>42</td>\n",
       "    </tr>\n",
       "  </tbody>\n",
       "</table>\n",
       "</div>"
      ],
      "text/plain": [
       "       publisher  num_books\n",
       "0  Penguin Books         42"
      ]
     },
     "execution_count": 6,
     "metadata": {},
     "output_type": "execute_result"
    }
   ],
   "source": [
    "query = '''\n",
    "SELECT \n",
    "    p.publisher, \n",
    "    COUNT(b.book_id) AS num_books\n",
    "FROM books AS b\n",
    "JOIN publishers AS p ON b.publisher_id = p.publisher_id\n",
    "WHERE b.num_pages > 50\n",
    "GROUP BY p.publisher\n",
    "ORDER BY num_books DESC\n",
    "LIMIT 1;\n",
    "'''\n",
    "\n",
    "pd.read_sql(query, con=engine)"
   ]
  },
  {
   "cell_type": "markdown",
   "metadata": {},
   "source": [
    "<div class=\"alert alert-block alert-success\">\n",
    "<b>Celda [6]</b> <a class=\"tocSkip\"></a><br>\n",
    "Has identificado correctamente al editor con más libros de más de 50 páginas. \n",
    "</div>\n"
   ]
  },
  {
   "cell_type": "markdown",
   "metadata": {},
   "source": [
    "### Editorial con más publicaciones significativas\n",
    "\n",
    "La editorial que ha publicado la mayor cantidad de libros con más de 50 páginas es:\n",
    "\n",
    "- **Penguin Books** con **42 libros**.\n",
    "\n",
    "Este filtro nos ayuda a eliminar folletos u obras menores, centrándonos en publicaciones sustanciales.\n"
   ]
  },
  {
   "cell_type": "markdown",
   "metadata": {},
   "source": [
    "# Identifica al autor que tiene la más alta calificación promedio del libro: mira solo los libros con al menos 50 calificaciones."
   ]
  },
  {
   "cell_type": "code",
   "execution_count": 8,
   "metadata": {},
   "outputs": [
    {
     "data": {
      "text/html": [
       "<div>\n",
       "<style scoped>\n",
       "    .dataframe tbody tr th:only-of-type {\n",
       "        vertical-align: middle;\n",
       "    }\n",
       "\n",
       "    .dataframe tbody tr th {\n",
       "        vertical-align: top;\n",
       "    }\n",
       "\n",
       "    .dataframe thead th {\n",
       "        text-align: right;\n",
       "    }\n",
       "</style>\n",
       "<table border=\"1\" class=\"dataframe\">\n",
       "  <thead>\n",
       "    <tr style=\"text-align: right;\">\n",
       "      <th></th>\n",
       "      <th>author</th>\n",
       "      <th>author_avg_rating</th>\n",
       "    </tr>\n",
       "  </thead>\n",
       "  <tbody>\n",
       "    <tr>\n",
       "      <th>0</th>\n",
       "      <td>J.K. Rowling/Mary GrandPré</td>\n",
       "      <td>4.28</td>\n",
       "    </tr>\n",
       "  </tbody>\n",
       "</table>\n",
       "</div>"
      ],
      "text/plain": [
       "                       author  author_avg_rating\n",
       "0  J.K. Rowling/Mary GrandPré               4.28"
      ]
     },
     "execution_count": 8,
     "metadata": {},
     "output_type": "execute_result"
    }
   ],
   "source": [
    "query = '''\n",
    "SELECT \n",
    "    a.author,\n",
    "    ROUND(AVG(sub.avg_rating), 2) AS author_avg_rating\n",
    "FROM (\n",
    "    SELECT \n",
    "        b.book_id,\n",
    "        b.author_id,\n",
    "        COUNT(r.rating_id) AS num_ratings,\n",
    "        AVG(r.rating) AS avg_rating\n",
    "    FROM books AS b\n",
    "    JOIN ratings AS r ON b.book_id = r.book_id\n",
    "    GROUP BY b.book_id, b.author_id\n",
    "    HAVING COUNT(r.rating_id) >= 50\n",
    ") AS sub\n",
    "JOIN authors AS a ON sub.author_id = a.author_id\n",
    "GROUP BY a.author\n",
    "ORDER BY author_avg_rating DESC\n",
    "LIMIT 1;\n",
    "'''\n",
    "\n",
    "pd.read_sql(query, con=engine)\n"
   ]
  },
  {
   "cell_type": "markdown",
   "metadata": {},
   "source": [
    "<div class=\"alert alert-block alert-success\">\n",
    "<b>Celda [8]</b> <a class=\"tocSkip\"></a><br>\n",
    "Has calculado de manera precisa la calificación promedio de los autores. \n",
    "</div>\n"
   ]
  },
  {
   "cell_type": "markdown",
   "metadata": {},
   "source": [
    "### Autor con la calificación promedio más alta\n",
    "\n",
    "El autor con la calificación promedio más alta (considerando solo libros con al menos 50 calificaciones) es:\n",
    "\n",
    "- **J.K. Rowling/Mary GrandPré** con un **promedio de 4.28** estrellas.\n",
    "\n",
    "Este resultado destaca la calidad y popularidad sostenida de sus obras dentro del catálogo.\n"
   ]
  },
  {
   "cell_type": "markdown",
   "metadata": {},
   "source": [
    "# Encuentra el número promedio de reseñas de texto entre los usuarios que calificaron más de 50 libros."
   ]
  },
  {
   "cell_type": "code",
   "execution_count": 9,
   "metadata": {},
   "outputs": [
    {
     "data": {
      "text/html": [
       "<div>\n",
       "<style scoped>\n",
       "    .dataframe tbody tr th:only-of-type {\n",
       "        vertical-align: middle;\n",
       "    }\n",
       "\n",
       "    .dataframe tbody tr th {\n",
       "        vertical-align: top;\n",
       "    }\n",
       "\n",
       "    .dataframe thead th {\n",
       "        text-align: right;\n",
       "    }\n",
       "</style>\n",
       "<table border=\"1\" class=\"dataframe\">\n",
       "  <thead>\n",
       "    <tr style=\"text-align: right;\">\n",
       "      <th></th>\n",
       "      <th>avg_text_reviews</th>\n",
       "    </tr>\n",
       "  </thead>\n",
       "  <tbody>\n",
       "    <tr>\n",
       "      <th>0</th>\n",
       "      <td>24.33</td>\n",
       "    </tr>\n",
       "  </tbody>\n",
       "</table>\n",
       "</div>"
      ],
      "text/plain": [
       "   avg_text_reviews\n",
       "0             24.33"
      ]
     },
     "execution_count": 9,
     "metadata": {},
     "output_type": "execute_result"
    }
   ],
   "source": [
    "query = '''\n",
    "WITH active_users AS (\n",
    "    SELECT \n",
    "        username\n",
    "    FROM ratings\n",
    "    GROUP BY username\n",
    "    HAVING COUNT(book_id) > 50\n",
    ")\n",
    "\n",
    "SELECT \n",
    "    ROUND(AVG(num_reviews), 2) AS avg_text_reviews\n",
    "FROM (\n",
    "    SELECT \n",
    "        r.username,\n",
    "        COUNT(rv.review_id) AS num_reviews\n",
    "    FROM active_users AS r\n",
    "    JOIN reviews AS rv ON r.username = rv.username\n",
    "    GROUP BY r.username\n",
    ") AS user_reviews;\n",
    "'''\n",
    "\n",
    "pd.read_sql(query, con=engine)"
   ]
  },
  {
   "cell_type": "markdown",
   "metadata": {},
   "source": [
    "<div class=\"alert alert-block alert-success\">\n",
    "<b>Celda [9]</b> <a class=\"tocSkip\"></a><br>\n",
    "Has calculado el promedio de reseñas textuales para usuarios activos.\n",
    "</div>\n"
   ]
  },
  {
   "cell_type": "markdown",
   "metadata": {},
   "source": [
    "### Promedio de reseñas entre usuarios activos\n",
    "\n",
    "Los usuarios que calificaron más de **50 libros** escribieron en promedio:\n",
    "\n",
    "- **24.33 reseñas de texto**.\n",
    "\n",
    "Esto indica un alto nivel de compromiso y participación entre los usuarios más activos de la plataforma.\n"
   ]
  },
  {
   "cell_type": "markdown",
   "metadata": {},
   "source": [
    "## Conclusiones del Análisis\n",
    "\n",
    "Este estudio sobre la base de datos de una plataforma de lectura nos permitió generar ideas clave que podrían alimentar una propuesta de valor para un nuevo producto en el mercado editorial digital. A continuación, se resumen los principales hallazgos:\n",
    "\n",
    "1. **Publicaciones recientes**: Se identificaron **819 libros publicados después del 1 de enero de 2000**, lo que demuestra una oferta amplia y actualizada que puede atraer a nuevos lectores.\n",
    "\n",
    "2. **Interacción del usuario**: Libros como *\"Twilight\"*, *\"The Hobbit\"*, y *\"The Catcher in the Rye\"* recibieron una gran cantidad de calificaciones y reseñas, lo cual señala su popularidad y valor de marca.\n",
    "\n",
    "3. **Editorial destacada**: La editorial **Penguin Books** publicó la mayor cantidad de libros con más de 50 páginas, posicionándose como una editorial clave para alianzas o recomendaciones destacadas.\n",
    "\n",
    "4. **Autor sobresaliente**: **J.K. Rowling/Mary GrandPré** obtuvo la calificación promedio más alta entre los autores con libros altamente evaluados (al menos 50 calificaciones), reflejando una fuerte conexión con la audiencia.\n",
    "\n",
    "5. **Usuarios comprometidos**: Los usuarios que calificaron más de 50 libros dejaron en promedio **24.33 reseñas de texto**, lo que sugiere una comunidad activa y dispuesta a compartir opiniones útiles.\n",
    "\n",
    "Estos hallazgos pueden guiar decisiones sobre qué autores y editoriales promover, cómo segmentar audiencias, y qué tipo de contenido priorizar para aumentar la retención y participación de los usuarios.\n"
   ]
  },
  {
   "cell_type": "markdown",
   "metadata": {},
   "source": [
    "<div class=\"alert alert-block alert-success\">\n",
    "<b>Comentario final</b> <a class=\"tocSkip\"></a><br>\n",
    "¡Muy buen trabajo, Ricardo! A lo largo del proyecto mostraste fortalezas muy claras:<br><br>\n",
    "• Configuraste correctamente la conexión a la base de datos utilizando SQLAlchemy.<br>\n",
    "• Realizaste una exploración inicial de los datos mostrando las primeras filas de las tablas, lo cual es esencial para entender la estructura de los datos.<br>\n",
    "• Incluiste títulos de libros en el análisis de reseñas, mejorando así la comprensión de los resultados.<br>\n",
    "• Calculaste correctamente métricas clave como el promedio de calificaciones y el número de reseñas.<br><br>\n",
    "¡Felicidades!\n",
    "</div>\n"
   ]
  }
 ],
 "metadata": {
  "kernelspec": {
   "display_name": "Python 3 (ipykernel)",
   "language": "python",
   "name": "python3"
  },
  "language_info": {
   "codemirror_mode": {
    "name": "ipython",
    "version": 3
   },
   "file_extension": ".py",
   "mimetype": "text/x-python",
   "name": "python",
   "nbconvert_exporter": "python",
   "pygments_lexer": "ipython3",
   "version": "3.9.23"
  }
 },
 "nbformat": 4,
 "nbformat_minor": 4
}
