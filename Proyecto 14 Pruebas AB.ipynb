{
 "cells": [
  {
   "cell_type": "markdown",
   "metadata": {},
   "source": [
    "<b>¡Hola Ricardo!</b>\n",
    "\n",
    "Mi nombre es Alejandro Abia y tengo el gusto de revisar tu proyecto.\n",
    "\n",
    "A continuación, encontrarás mis comentarios en celdas pintadas de tres colores (verde, amarillo y rojo), a manera de semáforo. Por favor, <b>no las borres ni muevas de posición</b> mientras dure el proceso de revisión.\n",
    "\n",
    "<div class=\"alert alert-block alert-success\">\n",
    "<b>Éxito</b> <a class=\"tocSkip\"></a>\n",
    "En celdas verdes encontrarás comentarios en relación a tus aciertos y fortalezas.\n",
    "</div>\n",
    "<div class=\"alert alert-block alert-warning\">\n",
    "<b>Atención</b> <a class=\"tocSkip\"></a>\n",
    "Utilizaré el color amarillo para llamar tu atención, expresar algo importante o compartirte alguna idea de valor.\n",
    "</div>\n",
    "<div class=\"alert alert-block alert-danger\">\n",
    "<b>A resolver</b> <a class=\"tocSkip\"></a>\n",
    "En rojo emitiré aquellos puntos que podrían impedir que el proyecto se ejecute correctamente. No son errores, sino oportunidades importantes de mejora.\n",
    "</div>\n",
    "<div class=\"alert alert-block alert-info\">\n",
    "<b>Comentario estudiante</b><a class=\"tocSkip\"></a>\n",
    "Si durante la revisión deseas dejarme algún comentario, por favor utiliza celdas azules como esta.\n",
    "</div>\n",
    "Tu proyecto será considerado aprobado cuando las observaciones en rojo hayan sido atendidas.\n",
    "¡Empecemos!\n"
   ]
  },
  {
   "cell_type": "markdown",
   "metadata": {},
   "source": [
    "# Proyecto de pruebas A/B\n",
    "## Objetivo del estudio\n",
    "\n",
    "El objetivo principal de este estudio es evaluar la efectividad de un nuevo sistema de recomendaciones implementado por una tienda en línea internacional.\n",
    "\n",
    "Para ello, se lanzó una prueba A/B denominada `recommender_system_test`, en la cual:\n",
    "- El **grupo A** actúa como grupo de control (embudo de pago original).\n",
    "- El **grupo B** utiliza el nuevo sistema de recomendaciones.\n",
    "\n",
    "El análisis se enfocará en comparar la conversión de usuarios en tres etapas clave del embudo de ventas dentro de los primeros 14 días desde su registro:\n",
    "\n",
    "1. **Vistas de producto** (`product_page`)\n",
    "2. **Agregar al carrito** (`product_card`)\n",
    "3. **Compras** (`purchase`)\n",
    "\n",
    "### Objetivo específico\n",
    "Determinar si el nuevo sistema de recomendaciones (grupo B) produce al menos un **10% de mejora** en la conversión en cada una de las etapas mencionadas, comparado con el grupo A.\n",
    "\n",
    "---\n",
    "\n",
    "## Hipótesis\n",
    "\n",
    "### Hipótesis nula (H₀)\n",
    "> No hay diferencia significativa en las tasas de conversión entre los grupos A y B en ninguna etapa del embudo.\n",
    "\n",
    "### Hipótesis alternativa (H₁)\n",
    "> El grupo B tiene al menos un **10% más de conversión** en una o más etapas del embudo comparado con el grupo A.\n"
   ]
  },
  {
   "cell_type": "markdown",
   "metadata": {},
   "source": [
    "# Vamos a iniciar importando librerias y cargando archivos\n"
   ]
  },
  {
   "cell_type": "code",
   "execution_count": 1,
   "metadata": {},
   "outputs": [],
   "source": [
    "import pandas as pd\n",
    "import numpy as np\n",
    "import matplotlib.pyplot as plt\n",
    "import seaborn as sns\n",
    "import warnings\n",
    "warnings.filterwarnings('ignore')\n",
    "from datetime import datetime\n",
    "from scipy.stats import shapiro, levene, ttest_ind, chi2_contingency\n",
    "from statsmodels.stats.proportion import proportions_ztest"
   ]
  },
  {
   "cell_type": "code",
   "execution_count": 2,
   "metadata": {},
   "outputs": [
    {
     "data": {
      "text/html": [
       "<div>\n",
       "<style scoped>\n",
       "    .dataframe tbody tr th:only-of-type {\n",
       "        vertical-align: middle;\n",
       "    }\n",
       "\n",
       "    .dataframe tbody tr th {\n",
       "        vertical-align: top;\n",
       "    }\n",
       "\n",
       "    .dataframe thead th {\n",
       "        text-align: right;\n",
       "    }\n",
       "</style>\n",
       "<table border=\"1\" class=\"dataframe\">\n",
       "  <thead>\n",
       "    <tr style=\"text-align: right;\">\n",
       "      <th></th>\n",
       "      <th>name</th>\n",
       "      <th>regions</th>\n",
       "      <th>start_dt</th>\n",
       "      <th>finish_dt</th>\n",
       "    </tr>\n",
       "  </thead>\n",
       "  <tbody>\n",
       "    <tr>\n",
       "      <th>0</th>\n",
       "      <td>Christmas&amp;New Year Promo</td>\n",
       "      <td>EU, N.America</td>\n",
       "      <td>2020-12-25</td>\n",
       "      <td>2021-01-03</td>\n",
       "    </tr>\n",
       "    <tr>\n",
       "      <th>1</th>\n",
       "      <td>St. Valentine's Day Giveaway</td>\n",
       "      <td>EU, CIS, APAC, N.America</td>\n",
       "      <td>2020-02-14</td>\n",
       "      <td>2020-02-16</td>\n",
       "    </tr>\n",
       "    <tr>\n",
       "      <th>2</th>\n",
       "      <td>St. Patric's Day Promo</td>\n",
       "      <td>EU, N.America</td>\n",
       "      <td>2020-03-17</td>\n",
       "      <td>2020-03-19</td>\n",
       "    </tr>\n",
       "    <tr>\n",
       "      <th>3</th>\n",
       "      <td>Easter Promo</td>\n",
       "      <td>EU, CIS, APAC, N.America</td>\n",
       "      <td>2020-04-12</td>\n",
       "      <td>2020-04-19</td>\n",
       "    </tr>\n",
       "    <tr>\n",
       "      <th>4</th>\n",
       "      <td>4th of July Promo</td>\n",
       "      <td>N.America</td>\n",
       "      <td>2020-07-04</td>\n",
       "      <td>2020-07-11</td>\n",
       "    </tr>\n",
       "  </tbody>\n",
       "</table>\n",
       "</div>"
      ],
      "text/plain": [
       "                           name                   regions    start_dt  \\\n",
       "0      Christmas&New Year Promo             EU, N.America  2020-12-25   \n",
       "1  St. Valentine's Day Giveaway  EU, CIS, APAC, N.America  2020-02-14   \n",
       "2        St. Patric's Day Promo             EU, N.America  2020-03-17   \n",
       "3                  Easter Promo  EU, CIS, APAC, N.America  2020-04-12   \n",
       "4             4th of July Promo                 N.America  2020-07-04   \n",
       "\n",
       "    finish_dt  \n",
       "0  2021-01-03  \n",
       "1  2020-02-16  \n",
       "2  2020-03-19  \n",
       "3  2020-04-19  \n",
       "4  2020-07-11  "
      ]
     },
     "metadata": {},
     "output_type": "display_data"
    },
    {
     "data": {
      "text/html": [
       "<div>\n",
       "<style scoped>\n",
       "    .dataframe tbody tr th:only-of-type {\n",
       "        vertical-align: middle;\n",
       "    }\n",
       "\n",
       "    .dataframe tbody tr th {\n",
       "        vertical-align: top;\n",
       "    }\n",
       "\n",
       "    .dataframe thead th {\n",
       "        text-align: right;\n",
       "    }\n",
       "</style>\n",
       "<table border=\"1\" class=\"dataframe\">\n",
       "  <thead>\n",
       "    <tr style=\"text-align: right;\">\n",
       "      <th></th>\n",
       "      <th>user_id</th>\n",
       "      <th>first_date</th>\n",
       "      <th>region</th>\n",
       "      <th>device</th>\n",
       "    </tr>\n",
       "  </thead>\n",
       "  <tbody>\n",
       "    <tr>\n",
       "      <th>0</th>\n",
       "      <td>D72A72121175D8BE</td>\n",
       "      <td>2020-12-07</td>\n",
       "      <td>EU</td>\n",
       "      <td>PC</td>\n",
       "    </tr>\n",
       "    <tr>\n",
       "      <th>1</th>\n",
       "      <td>F1C668619DFE6E65</td>\n",
       "      <td>2020-12-07</td>\n",
       "      <td>N.America</td>\n",
       "      <td>Android</td>\n",
       "    </tr>\n",
       "    <tr>\n",
       "      <th>2</th>\n",
       "      <td>2E1BF1D4C37EA01F</td>\n",
       "      <td>2020-12-07</td>\n",
       "      <td>EU</td>\n",
       "      <td>PC</td>\n",
       "    </tr>\n",
       "    <tr>\n",
       "      <th>3</th>\n",
       "      <td>50734A22C0C63768</td>\n",
       "      <td>2020-12-07</td>\n",
       "      <td>EU</td>\n",
       "      <td>iPhone</td>\n",
       "    </tr>\n",
       "    <tr>\n",
       "      <th>4</th>\n",
       "      <td>E1BDDCE0DAFA2679</td>\n",
       "      <td>2020-12-07</td>\n",
       "      <td>N.America</td>\n",
       "      <td>iPhone</td>\n",
       "    </tr>\n",
       "  </tbody>\n",
       "</table>\n",
       "</div>"
      ],
      "text/plain": [
       "            user_id  first_date     region   device\n",
       "0  D72A72121175D8BE  2020-12-07         EU       PC\n",
       "1  F1C668619DFE6E65  2020-12-07  N.America  Android\n",
       "2  2E1BF1D4C37EA01F  2020-12-07         EU       PC\n",
       "3  50734A22C0C63768  2020-12-07         EU   iPhone\n",
       "4  E1BDDCE0DAFA2679  2020-12-07  N.America   iPhone"
      ]
     },
     "metadata": {},
     "output_type": "display_data"
    },
    {
     "data": {
      "text/html": [
       "<div>\n",
       "<style scoped>\n",
       "    .dataframe tbody tr th:only-of-type {\n",
       "        vertical-align: middle;\n",
       "    }\n",
       "\n",
       "    .dataframe tbody tr th {\n",
       "        vertical-align: top;\n",
       "    }\n",
       "\n",
       "    .dataframe thead th {\n",
       "        text-align: right;\n",
       "    }\n",
       "</style>\n",
       "<table border=\"1\" class=\"dataframe\">\n",
       "  <thead>\n",
       "    <tr style=\"text-align: right;\">\n",
       "      <th></th>\n",
       "      <th>user_id</th>\n",
       "      <th>event_dt</th>\n",
       "      <th>event_name</th>\n",
       "      <th>details</th>\n",
       "    </tr>\n",
       "  </thead>\n",
       "  <tbody>\n",
       "    <tr>\n",
       "      <th>0</th>\n",
       "      <td>E1BDDCE0DAFA2679</td>\n",
       "      <td>2020-12-07 20:22:03</td>\n",
       "      <td>purchase</td>\n",
       "      <td>99.99</td>\n",
       "    </tr>\n",
       "    <tr>\n",
       "      <th>1</th>\n",
       "      <td>7B6452F081F49504</td>\n",
       "      <td>2020-12-07 09:22:53</td>\n",
       "      <td>purchase</td>\n",
       "      <td>9.99</td>\n",
       "    </tr>\n",
       "    <tr>\n",
       "      <th>2</th>\n",
       "      <td>9CD9F34546DF254C</td>\n",
       "      <td>2020-12-07 12:59:29</td>\n",
       "      <td>purchase</td>\n",
       "      <td>4.99</td>\n",
       "    </tr>\n",
       "    <tr>\n",
       "      <th>3</th>\n",
       "      <td>96F27A054B191457</td>\n",
       "      <td>2020-12-07 04:02:40</td>\n",
       "      <td>purchase</td>\n",
       "      <td>4.99</td>\n",
       "    </tr>\n",
       "    <tr>\n",
       "      <th>4</th>\n",
       "      <td>1FD7660FDF94CA1F</td>\n",
       "      <td>2020-12-07 10:15:09</td>\n",
       "      <td>purchase</td>\n",
       "      <td>4.99</td>\n",
       "    </tr>\n",
       "  </tbody>\n",
       "</table>\n",
       "</div>"
      ],
      "text/plain": [
       "            user_id             event_dt event_name  details\n",
       "0  E1BDDCE0DAFA2679  2020-12-07 20:22:03   purchase    99.99\n",
       "1  7B6452F081F49504  2020-12-07 09:22:53   purchase     9.99\n",
       "2  9CD9F34546DF254C  2020-12-07 12:59:29   purchase     4.99\n",
       "3  96F27A054B191457  2020-12-07 04:02:40   purchase     4.99\n",
       "4  1FD7660FDF94CA1F  2020-12-07 10:15:09   purchase     4.99"
      ]
     },
     "metadata": {},
     "output_type": "display_data"
    },
    {
     "data": {
      "text/html": [
       "<div>\n",
       "<style scoped>\n",
       "    .dataframe tbody tr th:only-of-type {\n",
       "        vertical-align: middle;\n",
       "    }\n",
       "\n",
       "    .dataframe tbody tr th {\n",
       "        vertical-align: top;\n",
       "    }\n",
       "\n",
       "    .dataframe thead th {\n",
       "        text-align: right;\n",
       "    }\n",
       "</style>\n",
       "<table border=\"1\" class=\"dataframe\">\n",
       "  <thead>\n",
       "    <tr style=\"text-align: right;\">\n",
       "      <th></th>\n",
       "      <th>user_id</th>\n",
       "      <th>group</th>\n",
       "      <th>ab_test</th>\n",
       "    </tr>\n",
       "  </thead>\n",
       "  <tbody>\n",
       "    <tr>\n",
       "      <th>0</th>\n",
       "      <td>D1ABA3E2887B6A73</td>\n",
       "      <td>A</td>\n",
       "      <td>recommender_system_test</td>\n",
       "    </tr>\n",
       "    <tr>\n",
       "      <th>1</th>\n",
       "      <td>A7A3664BD6242119</td>\n",
       "      <td>A</td>\n",
       "      <td>recommender_system_test</td>\n",
       "    </tr>\n",
       "    <tr>\n",
       "      <th>2</th>\n",
       "      <td>DABC14FDDFADD29E</td>\n",
       "      <td>A</td>\n",
       "      <td>recommender_system_test</td>\n",
       "    </tr>\n",
       "    <tr>\n",
       "      <th>3</th>\n",
       "      <td>04988C5DF189632E</td>\n",
       "      <td>A</td>\n",
       "      <td>recommender_system_test</td>\n",
       "    </tr>\n",
       "    <tr>\n",
       "      <th>4</th>\n",
       "      <td>4FF2998A348C484F</td>\n",
       "      <td>A</td>\n",
       "      <td>recommender_system_test</td>\n",
       "    </tr>\n",
       "  </tbody>\n",
       "</table>\n",
       "</div>"
      ],
      "text/plain": [
       "            user_id group                  ab_test\n",
       "0  D1ABA3E2887B6A73     A  recommender_system_test\n",
       "1  A7A3664BD6242119     A  recommender_system_test\n",
       "2  DABC14FDDFADD29E     A  recommender_system_test\n",
       "3  04988C5DF189632E     A  recommender_system_test\n",
       "4  4FF2998A348C484F     A  recommender_system_test"
      ]
     },
     "metadata": {},
     "output_type": "display_data"
    }
   ],
   "source": [
    "import pandas as pd\n",
    "\n",
    "# Cargo los archivos CSV desde la misma carpeta del notebook\n",
    "marketing = pd.read_csv('ab_project_marketing_events_us.csv')\n",
    "users = pd.read_csv('final_ab_new_users_upd_us.csv')\n",
    "events = pd.read_csv('final_ab_events_upd_us.csv')\n",
    "participants = pd.read_csv('final_ab_participants_upd_us.csv')\n",
    "\n",
    "# Muestro las primeras filas para verificar\n",
    "display(marketing.head())\n",
    "display(users.head())\n",
    "display(events.head())\n",
    "display(participants.head())\n"
   ]
  },
  {
   "cell_type": "markdown",
   "metadata": {},
   "source": [
    "<div class=\"alert alert-block alert-success\">\n",
    "<b>Celda [2]</b> <a class=\"tocSkip\"></a><br>\n",
    "Excelente trabajo al cargar y mostrar las primeras filas de cada conjunto de datos. Esto te permite verificar rápidamente la estructura y contenido de los datos, asegurando que se han importado correctamente.\n",
    "</div>\n"
   ]
  },
  {
   "cell_type": "markdown",
   "metadata": {},
   "source": [
    "# Reviso la calidad del los datasets \n",
    "\n",
    "Para automatizar cree una funcion"
   ]
  },
  {
   "cell_type": "code",
   "execution_count": 3,
   "metadata": {},
   "outputs": [
    {
     "name": "stdout",
     "output_type": "stream",
     "text": [
      " MARKETING\n",
      "----------------------------------------\n",
      "Tipos de datos:\n",
      " name         object\n",
      "regions      object\n",
      "start_dt     object\n",
      "finish_dt    object\n",
      "dtype: object\n",
      "\n",
      " Valores nulos:\n",
      " name         0\n",
      "regions      0\n",
      "start_dt     0\n",
      "finish_dt    0\n",
      "dtype: int64\n",
      "\n",
      " Duplicados: 0\n",
      "\n",
      "\n",
      " USUARIOS\n",
      "----------------------------------------\n",
      "Tipos de datos:\n",
      " user_id       object\n",
      "first_date    object\n",
      "region        object\n",
      "device        object\n",
      "dtype: object\n",
      "\n",
      " Valores nulos:\n",
      " user_id       0\n",
      "first_date    0\n",
      "region        0\n",
      "device        0\n",
      "dtype: int64\n",
      "\n",
      " Duplicados: 0\n",
      "\n",
      "\n",
      " EVENTOS\n",
      "----------------------------------------\n",
      "Tipos de datos:\n",
      " user_id        object\n",
      "event_dt       object\n",
      "event_name     object\n",
      "details       float64\n",
      "dtype: object\n",
      "\n",
      " Valores nulos:\n",
      " user_id            0\n",
      "event_dt           0\n",
      "event_name         0\n",
      "details       363447\n",
      "dtype: int64\n",
      "\n",
      " Duplicados: 0\n",
      "\n",
      "\n",
      " PARTICIPANTES\n",
      "----------------------------------------\n",
      "Tipos de datos:\n",
      " user_id    object\n",
      "group      object\n",
      "ab_test    object\n",
      "dtype: object\n",
      "\n",
      " Valores nulos:\n",
      " user_id    0\n",
      "group      0\n",
      "ab_test    0\n",
      "dtype: int64\n",
      "\n",
      " Duplicados: 0\n",
      "\n",
      "\n"
     ]
    }
   ],
   "source": [
    "# Creo funcion para revisar tipos, nulos y duplicados\n",
    "def revisar_calidad(nombre, df):\n",
    "    print(f\" {nombre.upper()}\")\n",
    "    print(\"-\" * 40)\n",
    "    print(\"Tipos de datos:\\n\", df.dtypes)\n",
    "    print(\"\\n Valores nulos:\\n\", df.isnull().sum())\n",
    "    print(\"\\n Duplicados:\", df.duplicated().sum())\n",
    "    print(\"\\n\")\n",
    "\n",
    "# Reviso cada dataset\n",
    "revisar_calidad(\"Marketing\", marketing)\n",
    "revisar_calidad(\"Usuarios\", users)\n",
    "revisar_calidad(\"Eventos\", events)\n",
    "revisar_calidad(\"Participantes\", participants)\n"
   ]
  },
  {
   "cell_type": "markdown",
   "metadata": {},
   "source": [
    "<div class=\"alert alert-block alert-success\">\n",
    "<b>Celda [3]</b> <a class=\"tocSkip\"></a><br>\n",
    "Buen uso de la función para revisar tipos de datos, valores nulos y duplicados. Esto proporciona una visión clara del estado inicial de los datos y facilita la identificación de problemas potenciales.\n",
    "</div>\n"
   ]
  },
  {
   "cell_type": "markdown",
   "metadata": {},
   "source": [
    "# Hacemos Conversión de fechas"
   ]
  },
  {
   "cell_type": "code",
   "execution_count": 4,
   "metadata": {},
   "outputs": [],
   "source": [
    "marketing['start_dt'] = pd.to_datetime(marketing['start_dt'])\n",
    "marketing['finish_dt'] = pd.to_datetime(marketing['finish_dt'])\n",
    "\n",
    "users['first_date'] = pd.to_datetime(users['first_date'])\n",
    "events['event_dt'] = pd.to_datetime(events['event_dt'])\n"
   ]
  },
  {
   "cell_type": "markdown",
   "metadata": {},
   "source": [
    "<div class=\"alert alert-block alert-success\">\n",
    "<b>Celda [4]</b> <a class=\"tocSkip\"></a><br>\n",
    "Has convertido correctamente las columnas de fecha a tipo datetime. Esto es crucial para realizar análisis temporales precisos. \n",
    "</div>\n"
   ]
  },
  {
   "cell_type": "markdown",
   "metadata": {},
   "source": [
    "## ¿Fue necesario convertir los tipos?\n",
    "Si, fue necesario. Las columnas start_dt y finish_dt del data set marketing, first_date de users y event_dt de events contenian fechas representadas como texto (object), lo que limitba el análisis cronologico y la comparacion de intervalos de tiempo. Fue crucial convertirlas al tipo datetime.\n",
    "\n",
    "Estas conversiones permiten:\n",
    "\n",
    "- Filtrar por fechas fácilmente\n",
    "\n",
    "- Calcular diferencias entre fechas (por ejemplo, días desde el registro)\n",
    "\n",
    "- Agrupar por día, semana o mes si fuera necesario\n",
    "\n"
   ]
  },
  {
   "cell_type": "markdown",
   "metadata": {},
   "source": [
    "## ¿Habia valores ausentes o duplicados?\n",
    "\n",
    "Si, del dataset events la columna details tiene 363,447 valores nulos.\n",
    "Esto es esperado y correcto, ya que esta columna solo tiene datos cuando el evento es una compra. Para eventos como product_page o product_card, el campo no se llena.\n",
    "\n",
    "Todos los demás datasets no tienen valores nulos y No se encontraron duplicados, por lo tanto no es necesario limpiar en ese aspecto."
   ]
  },
  {
   "cell_type": "markdown",
   "metadata": {},
   "source": [
    "# Analisis exploratorio de datos"
   ]
  },
  {
   "cell_type": "code",
   "execution_count": 5,
   "metadata": {},
   "outputs": [
    {
     "data": {
      "text/html": [
       "<div>\n",
       "<style scoped>\n",
       "    .dataframe tbody tr th:only-of-type {\n",
       "        vertical-align: middle;\n",
       "    }\n",
       "\n",
       "    .dataframe tbody tr th {\n",
       "        vertical-align: top;\n",
       "    }\n",
       "\n",
       "    .dataframe thead th {\n",
       "        text-align: right;\n",
       "    }\n",
       "</style>\n",
       "<table border=\"1\" class=\"dataframe\">\n",
       "  <thead>\n",
       "    <tr style=\"text-align: right;\">\n",
       "      <th></th>\n",
       "      <th>user_id</th>\n",
       "      <th>event_dt</th>\n",
       "      <th>event_name</th>\n",
       "      <th>details</th>\n",
       "      <th>group</th>\n",
       "      <th>ab_test</th>\n",
       "    </tr>\n",
       "  </thead>\n",
       "  <tbody>\n",
       "    <tr>\n",
       "      <th>0</th>\n",
       "      <td>96F27A054B191457</td>\n",
       "      <td>2020-12-07 04:02:40</td>\n",
       "      <td>purchase</td>\n",
       "      <td>4.99</td>\n",
       "      <td>B</td>\n",
       "      <td>interface_eu_test</td>\n",
       "    </tr>\n",
       "    <tr>\n",
       "      <th>1</th>\n",
       "      <td>96F27A054B191457</td>\n",
       "      <td>2020-12-08 09:43:14</td>\n",
       "      <td>purchase</td>\n",
       "      <td>4.99</td>\n",
       "      <td>B</td>\n",
       "      <td>interface_eu_test</td>\n",
       "    </tr>\n",
       "    <tr>\n",
       "      <th>2</th>\n",
       "      <td>96F27A054B191457</td>\n",
       "      <td>2020-12-09 00:44:10</td>\n",
       "      <td>purchase</td>\n",
       "      <td>4.99</td>\n",
       "      <td>B</td>\n",
       "      <td>interface_eu_test</td>\n",
       "    </tr>\n",
       "    <tr>\n",
       "      <th>3</th>\n",
       "      <td>96F27A054B191457</td>\n",
       "      <td>2020-12-26 00:33:57</td>\n",
       "      <td>purchase</td>\n",
       "      <td>9.99</td>\n",
       "      <td>B</td>\n",
       "      <td>interface_eu_test</td>\n",
       "    </tr>\n",
       "    <tr>\n",
       "      <th>4</th>\n",
       "      <td>96F27A054B191457</td>\n",
       "      <td>2020-12-07 04:02:41</td>\n",
       "      <td>product_page</td>\n",
       "      <td>NaN</td>\n",
       "      <td>B</td>\n",
       "      <td>interface_eu_test</td>\n",
       "    </tr>\n",
       "  </tbody>\n",
       "</table>\n",
       "</div>"
      ],
      "text/plain": [
       "            user_id            event_dt    event_name  details group  \\\n",
       "0  96F27A054B191457 2020-12-07 04:02:40      purchase     4.99     B   \n",
       "1  96F27A054B191457 2020-12-08 09:43:14      purchase     4.99     B   \n",
       "2  96F27A054B191457 2020-12-09 00:44:10      purchase     4.99     B   \n",
       "3  96F27A054B191457 2020-12-26 00:33:57      purchase     9.99     B   \n",
       "4  96F27A054B191457 2020-12-07 04:02:41  product_page      NaN     B   \n",
       "\n",
       "             ab_test  \n",
       "0  interface_eu_test  \n",
       "1  interface_eu_test  \n",
       "2  interface_eu_test  \n",
       "3  interface_eu_test  \n",
       "4  interface_eu_test  "
      ]
     },
     "metadata": {},
     "output_type": "display_data"
    }
   ],
   "source": [
    "# Uno eventos con la información de grupo A/B\n",
    "events_grupos = events.merge(participants, on='user_id', how='inner')\n",
    "\n",
    "# Confirmo que la unión funciono\n",
    "display(events_grupos.head())\n"
   ]
  },
  {
   "cell_type": "markdown",
   "metadata": {},
   "source": [
    "<div class=\"alert alert-block alert-success\">\n",
    "<b>Celda [5]</b> <a class=\"tocSkip\"></a><br>\n",
    "La unión de los eventos con la información de grupo A/B está bien ejecutada. Esto es esencial para analizar el comportamiento de los usuarios en cada grupo y evaluar el impacto de las pruebas A/B.\n",
    "</div>\n"
   ]
  },
  {
   "cell_type": "code",
   "execution_count": 6,
   "metadata": {},
   "outputs": [
    {
     "data": {
      "text/html": [
       "<div>\n",
       "<style scoped>\n",
       "    .dataframe tbody tr th:only-of-type {\n",
       "        vertical-align: middle;\n",
       "    }\n",
       "\n",
       "    .dataframe tbody tr th {\n",
       "        vertical-align: top;\n",
       "    }\n",
       "\n",
       "    .dataframe thead th {\n",
       "        text-align: right;\n",
       "    }\n",
       "</style>\n",
       "<table border=\"1\" class=\"dataframe\">\n",
       "  <thead>\n",
       "    <tr style=\"text-align: right;\">\n",
       "      <th>event_name</th>\n",
       "      <th>product_page</th>\n",
       "      <th>product_cart</th>\n",
       "      <th>purchase</th>\n",
       "    </tr>\n",
       "    <tr>\n",
       "      <th>group</th>\n",
       "      <th></th>\n",
       "      <th></th>\n",
       "      <th></th>\n",
       "    </tr>\n",
       "  </thead>\n",
       "  <tbody>\n",
       "    <tr>\n",
       "      <th>A</th>\n",
       "      <td>5208</td>\n",
       "      <td>2483</td>\n",
       "      <td>2682</td>\n",
       "    </tr>\n",
       "    <tr>\n",
       "      <th>B</th>\n",
       "      <td>3986</td>\n",
       "      <td>2037</td>\n",
       "      <td>2008</td>\n",
       "    </tr>\n",
       "  </tbody>\n",
       "</table>\n",
       "</div>"
      ],
      "text/plain": [
       "event_name  product_page  product_cart  purchase\n",
       "group                                           \n",
       "A                   5208          2483      2682\n",
       "B                   3986          2037      2008"
      ]
     },
     "metadata": {},
     "output_type": "display_data"
    }
   ],
   "source": [
    "# Agrupo usuarios unicos por grupo y tipo de evento\n",
    "embudo = events_grupos.groupby(['group', 'event_name'])['user_id'].nunique().unstack().fillna(0).astype(int)\n",
    "\n",
    "# Ordeno columnas del embudo (ajustado a nombres reales)\n",
    "embudo = embudo[['product_page', 'product_cart', 'purchase']]\n",
    "\n",
    "display(embudo)"
   ]
  },
  {
   "cell_type": "markdown",
   "metadata": {},
   "source": [
    "<div class=\"alert alert-block alert-success\">\n",
    "<b>Celda [6]</b> <a class=\"tocSkip\"></a><br>\n",
    "El embudo de conversión está bien estructurado. Considera agregar visualizaciones para ilustrar las diferencias entre los grupos de manera más clara. \n",
    "</div>\n"
   ]
  },
  {
   "cell_type": "code",
   "execution_count": 7,
   "metadata": {},
   "outputs": [
    {
     "data": {
      "text/html": [
       "<div>\n",
       "<style scoped>\n",
       "    .dataframe tbody tr th:only-of-type {\n",
       "        vertical-align: middle;\n",
       "    }\n",
       "\n",
       "    .dataframe tbody tr th {\n",
       "        vertical-align: top;\n",
       "    }\n",
       "\n",
       "    .dataframe thead th {\n",
       "        text-align: right;\n",
       "    }\n",
       "</style>\n",
       "<table border=\"1\" class=\"dataframe\">\n",
       "  <thead>\n",
       "    <tr style=\"text-align: right;\">\n",
       "      <th>event_name</th>\n",
       "      <th>product_page</th>\n",
       "      <th>product_cart</th>\n",
       "      <th>purchase</th>\n",
       "      <th>page_to_cart</th>\n",
       "      <th>cart_to_purchase</th>\n",
       "      <th>page_to_purchase</th>\n",
       "    </tr>\n",
       "    <tr>\n",
       "      <th>group</th>\n",
       "      <th></th>\n",
       "      <th></th>\n",
       "      <th></th>\n",
       "      <th></th>\n",
       "      <th></th>\n",
       "      <th></th>\n",
       "    </tr>\n",
       "  </thead>\n",
       "  <tbody>\n",
       "    <tr>\n",
       "      <th>A</th>\n",
       "      <td>5208</td>\n",
       "      <td>2483</td>\n",
       "      <td>2682</td>\n",
       "      <td>0.4768</td>\n",
       "      <td>1.0801</td>\n",
       "      <td>0.5150</td>\n",
       "    </tr>\n",
       "    <tr>\n",
       "      <th>B</th>\n",
       "      <td>3986</td>\n",
       "      <td>2037</td>\n",
       "      <td>2008</td>\n",
       "      <td>0.5110</td>\n",
       "      <td>0.9858</td>\n",
       "      <td>0.5038</td>\n",
       "    </tr>\n",
       "  </tbody>\n",
       "</table>\n",
       "</div>"
      ],
      "text/plain": [
       "event_name  product_page  product_cart  purchase  page_to_cart  \\\n",
       "group                                                            \n",
       "A                   5208          2483      2682        0.4768   \n",
       "B                   3986          2037      2008        0.5110   \n",
       "\n",
       "event_name  cart_to_purchase  page_to_purchase  \n",
       "group                                           \n",
       "A                     1.0801            0.5150  \n",
       "B                     0.9858            0.5038  "
      ]
     },
     "metadata": {},
     "output_type": "display_data"
    }
   ],
   "source": [
    "# Calculao conversiones entre etapas\n",
    "conversion = embudo.copy()\n",
    "\n",
    "conversion['page_to_cart'] = (conversion['product_cart'] / conversion['product_page']).round(4)\n",
    "conversion['cart_to_purchase'] = (conversion['purchase'] / conversion['product_cart']).round(4)\n",
    "conversion['page_to_purchase'] = (conversion['purchase'] / conversion['product_page']).round(4)\n",
    "\n",
    "display(conversion)\n"
   ]
  },
  {
   "cell_type": "markdown",
   "metadata": {},
   "source": [
    "<div class=\"alert alert-block alert-warning\">\n",
    "<b>Celda [7]</b> <a class=\"tocSkip\"></a><br>\n",
    "El cálculo de las tasas de conversión entre etapas es un paso importante. Considera agregar un análisis sobre cómo estas tasas pueden influir en la estrategia de marketing, como identificar en qué etapa se pierden más usuarios y cómo podrías mejorar esas conversiones.\n",
    "</div>\n"
   ]
  },
  {
   "cell_type": "code",
   "execution_count": 8,
   "metadata": {},
   "outputs": [
    {
     "name": "stdout",
     "output_type": "stream",
     "text": [
      "Z-test: Product Page → Cart\n",
      "Z = -3.2575, p-value = 0.9994\n"
     ]
    }
   ],
   "source": [
    "# Usuarios que llegaron a la etapa\n",
    "page_A = embudo.loc['A', 'product_page']\n",
    "page_B = embudo.loc['B', 'product_page']\n",
    "\n",
    "cart_A = embudo.loc['A', 'product_cart']\n",
    "cart_B = embudo.loc['B', 'product_cart']\n",
    "\n",
    "# Datos para prueba z\n",
    "counts = [cart_A, cart_B]\n",
    "nobs = [page_A, page_B]\n",
    "\n",
    "# Prueba Z de proporciones\n",
    "stat, pval = proportions_ztest(count=counts, nobs=nobs, alternative='larger')\n",
    "\n",
    "print(\"Z-test: Product Page → Cart\")\n",
    "print(f\"Z = {stat:.4f}, p-value = {pval:.4f}\")\n"
   ]
  },
  {
   "cell_type": "markdown",
   "metadata": {},
   "source": [
    "<div class=\"alert alert-block alert-warning\">\n",
    "<b>Celda [8]</b> <a class=\"tocSkip\"></a><br>\n",
    "La prueba Z para proporciones está bien implementada. Sería beneficioso incluir una interpretación más detallada de los resultados, como discutir la significancia estadística y práctica de los resultados, y cómo podrían influir en decisiones de negocio.\n",
    "</div>\n"
   ]
  },
  {
   "cell_type": "code",
   "execution_count": 9,
   "metadata": {},
   "outputs": [
    {
     "name": "stdout",
     "output_type": "stream",
     "text": [
      "\n",
      "Z-test: Product Page → Purchase\n",
      "Z = 1.0659, p-value = 0.1432\n"
     ]
    }
   ],
   "source": [
    "purchase_A = embudo.loc['A', 'purchase']\n",
    "purchase_B = embudo.loc['B', 'purchase']\n",
    "\n",
    "counts = [purchase_A, purchase_B]\n",
    "nobs = [page_A, page_B]\n",
    "\n",
    "# Prueba Z\n",
    "stat, pval = proportions_ztest(count=counts, nobs=nobs, alternative='larger')\n",
    "\n",
    "print(\"\\nZ-test: Product Page → Purchase\")\n",
    "print(f\"Z = {stat:.4f}, p-value = {pval:.4f}\")\n"
   ]
  },
  {
   "cell_type": "markdown",
   "metadata": {},
   "source": [
    "## Estudio de conversion\n",
    "\n",
    "Se evaluó el impacto de un nuevo sistema de recomendaciones (Grupo B) en comparación con el sistema actual (Grupo A) a través de una prueba A/B.\n",
    "\n",
    "### Embudo de conversión analizado:\n",
    "1. Visita de página de producto → Agregado al carrito (`product_page → product_cart`)\n",
    "2. Agregado al carrito → Compra (`product_cart → purchase`)\n",
    "3. Visita de producto → Compra (`product_page → purchase`)\n",
    "\n",
    "### Resultados clave:\n",
    "- **Grupo B mostró ligeras mejoras visuales** en la tasa de conversión desde `product_page` a `product_cart` (+7.2%), pero la diferencia **no fue estadísticamente significativa** (`p = 0.9994`).\n",
    "- En la tasa de conversión final (`product_page → purchase`), la diferencia también **no fue significativa** (`p = 0.1432`), aunque el Grupo A tuvo ligeramente mejor conversión.\n",
    "- Se observaron valores inconsistentes en la etapa `cart_to_purchase`, ya que algunos usuarios compraron sin pasar por el evento `product_cart`.\n"
   ]
  },
  {
   "cell_type": "markdown",
   "metadata": {},
   "source": [
    "### ¿El número de eventos por usuario está distribuido equitativamente entre las muestras?"
   ]
  },
  {
   "cell_type": "code",
   "execution_count": 10,
   "metadata": {},
   "outputs": [
    {
     "data": {
      "text/html": [
       "<div>\n",
       "<style scoped>\n",
       "    .dataframe tbody tr th:only-of-type {\n",
       "        vertical-align: middle;\n",
       "    }\n",
       "\n",
       "    .dataframe tbody tr th {\n",
       "        vertical-align: top;\n",
       "    }\n",
       "\n",
       "    .dataframe thead th {\n",
       "        text-align: right;\n",
       "    }\n",
       "</style>\n",
       "<table border=\"1\" class=\"dataframe\">\n",
       "  <thead>\n",
       "    <tr style=\"text-align: right;\">\n",
       "      <th></th>\n",
       "      <th>count</th>\n",
       "      <th>mean</th>\n",
       "      <th>std</th>\n",
       "      <th>min</th>\n",
       "      <th>25%</th>\n",
       "      <th>50%</th>\n",
       "      <th>75%</th>\n",
       "      <th>max</th>\n",
       "    </tr>\n",
       "    <tr>\n",
       "      <th>group</th>\n",
       "      <th></th>\n",
       "      <th></th>\n",
       "      <th></th>\n",
       "      <th></th>\n",
       "      <th></th>\n",
       "      <th></th>\n",
       "      <th></th>\n",
       "      <th></th>\n",
       "    </tr>\n",
       "  </thead>\n",
       "  <tbody>\n",
       "    <tr>\n",
       "      <th>A</th>\n",
       "      <td>7874.0</td>\n",
       "      <td>7.45555</td>\n",
       "      <td>4.475159</td>\n",
       "      <td>1.0</td>\n",
       "      <td>4.0</td>\n",
       "      <td>6.0</td>\n",
       "      <td>9.0</td>\n",
       "      <td>40.0</td>\n",
       "    </tr>\n",
       "    <tr>\n",
       "      <th>B</th>\n",
       "      <td>6205.0</td>\n",
       "      <td>7.11249</td>\n",
       "      <td>4.246201</td>\n",
       "      <td>1.0</td>\n",
       "      <td>4.0</td>\n",
       "      <td>6.0</td>\n",
       "      <td>9.0</td>\n",
       "      <td>36.0</td>\n",
       "    </tr>\n",
       "  </tbody>\n",
       "</table>\n",
       "</div>"
      ],
      "text/plain": [
       "        count     mean       std  min  25%  50%  75%   max\n",
       "group                                                     \n",
       "A      7874.0  7.45555  4.475159  1.0  4.0  6.0  9.0  40.0\n",
       "B      6205.0  7.11249  4.246201  1.0  4.0  6.0  9.0  36.0"
      ]
     },
     "execution_count": 10,
     "metadata": {},
     "output_type": "execute_result"
    }
   ],
   "source": [
    "# cuantos eventos genero cada usuario\n",
    "eventos_por_usuario = events_grupos.groupby(['user_id', 'group'])['event_name'].count().reset_index()\n",
    "eventos_por_usuario.columns = ['user_id', 'group', 'event_count']\n",
    "\n",
    "# distribución por grupo\n",
    "eventos_por_usuario.groupby('group')['event_count'].describe()"
   ]
  },
  {
   "cell_type": "code",
   "execution_count": 11,
   "metadata": {},
   "outputs": [
    {
     "data": {
      "image/png": "[encoded data removed]",
      "text/plain": [
       "<Figure size 800x500 with 1 Axes>"
      ]
     },
     "metadata": {},
     "output_type": "display_data"
    }
   ],
   "source": [
    "plt.figure(figsize=(8, 5))\n",
    "sns.boxplot(data=eventos_por_usuario, x='group', y='event_count')\n",
    "plt.title('Distribución de cantidad de eventos por usuario en cada grupo')\n",
    "plt.ylabel('Cantidad de eventos por usuario')\n",
    "plt.xlabel('Grupo')\n",
    "plt.grid(True)\n",
    "plt.show()"
   ]
  },
  {
   "cell_type": "markdown",
   "metadata": {},
   "source": [
    "<div class=\"alert alert-block alert-success\">\n",
    "<b>Celda [11]</b> <a class=\"tocSkip\"></a><br>\n",
    "La visualización de la distribución de eventos por usuario es clara y proporciona una buena comprensión de la dispersión de datos en cada grupo. Esto es útil para identificar patrones o anomalías en el comportamiento del usuario.\n",
    "</div>\n"
   ]
  },
  {
   "cell_type": "code",
   "execution_count": 12,
   "metadata": {},
   "outputs": [
    {
     "name": "stdout",
     "output_type": "stream",
     "text": [
      "T-test eventos por usuario:\n",
      "T = 4.6473, p-value = 0.0000\n"
     ]
    }
   ],
   "source": [
    "# Separo los datos por grupo\n",
    "grupo_A = eventos_por_usuario[eventos_por_usuario['group'] == 'A']['event_count']\n",
    "grupo_B = eventos_por_usuario[eventos_por_usuario['group'] == 'B']['event_count']\n",
    "\n",
    "# Prueba t\n",
    "stat, pval = ttest_ind(grupo_A, grupo_B, equal_var=False)  # Welch's t-test\n",
    "print(f\"T-test eventos por usuario:\\nT = {stat:.4f}, p-value = {pval:.4f}\")"
   ]
  },
  {
   "cell_type": "markdown",
   "metadata": {},
   "source": [
    "<div class=\"alert alert-block alert-warning\">\n",
    "<b>Celda [12]</b> <a class=\"tocSkip\"></a><br>\n",
    "La prueba t de Welch es adecuada para comparar las medias de dos grupos con varianzas diferentes. Asegúrate de discutir los supuestos de la prueba, como la normalidad de los datos, y cómo se cumplen en tu análisis para fortalecer tus conclusiones.\n",
    "</div>\n"
   ]
  },
  {
   "cell_type": "markdown",
   "metadata": {},
   "source": [
    "## ¿El número de eventos por usuario está distribuido equitativamente entre los grupos A y B?\n",
    "\n",
    "Se comparó la cantidad total de eventos generados por cada usuario en ambos grupos, tanto de forma gráfica (boxplot) como estadística (t-test).\n",
    "\n",
    "### Observaciones:\n",
    "- Visualmente, las distribuciones presentan formas similares, con medianas cercanas (~5 eventos por usuario).\n",
    "- Sin embargo, la prueba t para comparar las medias mostró una diferencia estadísticamente significativa entre los grupos:\n",
    "  - **T = 4.647**\n",
    "  - **p-value < 0.001**\n",
    "\n",
    "### Conclusión:\n",
    "> **No**, el número de eventos por usuario **no está distribuido equitativamente** entre los grupos A y B.  \n",
    "> Esto puede representar una amenaza a la validez del experimento, ya que uno de los grupos tuvo mayor interacción promedio con la plataforma.\n"
   ]
  },
  {
   "cell_type": "markdown",
   "metadata": {},
   "source": [
    "## ¿Hay usuarios que están presentes en ambas muestras?"
   ]
  },
  {
   "cell_type": "code",
   "execution_count": 13,
   "metadata": {},
   "outputs": [
    {
     "name": "stdout",
     "output_type": "stream",
     "text": [
      "Usuarios en ambos grupos: 887\n"
     ]
    }
   ],
   "source": [
    "# Verifico si algun usuario aparece mas de una vez en la tabla de participantes\n",
    "duplicados = participants['user_id'].duplicated().sum()\n",
    "\n",
    "print(f\"Usuarios en ambos grupos: {duplicados}\")"
   ]
  },
  {
   "cell_type": "code",
   "execution_count": 14,
   "metadata": {},
   "outputs": [
    {
     "name": "stdout",
     "output_type": "stream",
     "text": [
      "Participantes filtrados: 12751\n",
      "Eventos filtrados: 91408\n"
     ]
    }
   ],
   "source": [
    "# Identifico IDs duplicados (en ambos grupos)\n",
    "ids_duplicados = participants[participants.duplicated('user_id', keep=False)]['user_id'].unique()\n",
    "\n",
    "# Filtro participantes validos (solo los que estan en un único grupo)\n",
    "participants_clean = participants[~participants['user_id'].isin(ids_duplicados)]\n",
    "\n",
    "# Limpio tambien los eventos\n",
    "events_clean = events.merge(participants_clean, on='user_id', how='inner')\n",
    "\n",
    "print(f\"Participantes filtrados: {participants_clean.shape[0]}\")\n",
    "print(f\"Eventos filtrados: {events_clean.shape[0]}\")\n"
   ]
  },
  {
   "cell_type": "markdown",
   "metadata": {},
   "source": [
    "<div class=\"alert alert-success\">\n",
    "<b>Celda [14]</b> <a class=\"tocSkip\"></a><br>\n",
    "Has realizado una limpieza adecuada de los datos al eliminar usuarios duplicados en ambos grupos. \n",
    "</div>\n"
   ]
  },
  {
   "cell_type": "markdown",
   "metadata": {},
   "source": [
    "## ¿Hay usuarios presentes en ambos grupos A y B?\n",
    "\n",
    "Sí, se detectaron **887 usuarios que estaban asignados a ambos grupos de prueba**.  \n",
    "Esto representa una violación del diseño experimental, ya que rompe el principio de aleatorización y puede contaminar los resultados.\n",
    "\n",
    "### Acción correctiva:\n",
    "> Se eliminaron estos usuarios duplicados del análisis para garantizar que cada participante esté presente **únicamente en un grupo**.  \n",
    "> Esta corrección asegura la validez del análisis estadístico posterior.\n"
   ]
  },
  {
   "cell_type": "markdown",
   "metadata": {},
   "source": [
    "## ¿Cómo se distribuye el número de eventos entre los días?"
   ]
  },
  {
   "cell_type": "code",
   "execution_count": 15,
   "metadata": {},
   "outputs": [],
   "source": [
    "# Me aseguro de convertir fechas correctamente\n",
    "events_clean['event_dt'] = pd.to_datetime(events_clean['event_dt'])\n",
    "\n",
    "# Agrupo eventos por día\n",
    "eventos_por_dia = events_clean.groupby(events_clean['event_dt'].dt.date)['event_name'].count()\n"
   ]
  },
  {
   "cell_type": "code",
   "execution_count": 16,
   "metadata": {},
   "outputs": [
    {
     "data": {
      "image/png": "[encoded data removed]",
      "text/plain": [
       "<Figure size 1200x500 with 1 Axes>"
      ]
     },
     "metadata": {},
     "output_type": "display_data"
    }
   ],
   "source": [
    "plt.figure(figsize=(12, 5))\n",
    "eventos_por_dia.plot(marker='o')\n",
    "plt.title(\"Número de eventos por día\")\n",
    "plt.xlabel(\"Fecha\")\n",
    "plt.ylabel(\"Cantidad de eventos\")\n",
    "plt.grid(True)\n",
    "plt.xticks(rotation=45)\n",
    "plt.tight_layout()\n",
    "plt.show()"
   ]
  },
  {
   "cell_type": "markdown",
   "metadata": {},
   "source": [
    "<div class=\"alert alert-block alert-success\">\n",
    "<b>Celda [16]</b> <a class=\"tocSkip\"></a><br>\n",
    "La gráfica de eventos por día está bien diseñada y proporciona una visión clara de la actividad diaria. Buen uso de visualizaciones para identificar tendencias temporales y posibles picos de actividad.\n",
    "</div>\n"
   ]
  },
  {
   "cell_type": "markdown",
   "metadata": {},
   "source": [
    "## ¿Cómo se distribuyó el número de eventos entre los días?\n",
    "\n",
    "Al analizar la cantidad de eventos registrados por día durante el periodo del experimento, se observó lo siguiente:\n",
    "\n",
    "- La actividad fue **creciente y estable** entre el 7 y el 21 de diciembre, con un **pico el día 21**, que coincide con la fecha en que se dejó de admitir nuevos usuarios.\n",
    "- A partir del 22 de diciembre, el número de eventos **disminuye gradualmente**, lo cual es consistente con el hecho de que los usuarios completan sus 14 días de prueba.\n",
    "- No se detectaron caídas abruptas ni interrupciones anómalas en la actividad del sistema."
   ]
  },
  {
   "cell_type": "markdown",
   "metadata": {},
   "source": [
    "## ¿Hay alguna peculiaridad en los datos que debamos considerar?\n",
    "\n",
    "Antes de realizar el análisis principal de la prueba A/B, se identificaron las siguientes particularidades que podrían afectar su validez:\n",
    "\n",
    "- Se detectaron **887 usuarios presentes en ambos grupos de prueba**. Esto fue corregido eliminando dichos usuarios para asegurar una separación clara entre los grupos.\n",
    "- Se observó una **diferencia significativa en la cantidad de eventos por usuario** entre los grupos A y B (p < 0.001), lo cual puede indicar una exposición desigual al sistema.\n",
    "- La columna `details` contiene valores nulos, lo cual es esperado ya que solo aplica a eventos del tipo `purchase`.\n",
    "- La actividad de eventos por día fue **estable y coherente** con la dinámica del experimento, sin interrupciones anómalas.\n",
    "\n",
    "### Conclusión:\n",
    "> Aunque se tomaron medidas correctivas para asegurar la validez de la prueba, se debe considerar que **la diferencia en la cantidad de eventos por usuario** podría haber introducido sesgos sutiles.  \n",
    "> En general, **los datos están lo suficientemente limpios y estructurados** como para llevar a cabo el análisis con confianza, teniendo en cuenta las observaciones anteriores.\n"
   ]
  },
  {
   "cell_type": "markdown",
   "metadata": {},
   "source": [
    "# Evaluar los resultados de la prueba A/B"
   ]
  },
  {
   "cell_type": "code",
   "execution_count": 17,
   "metadata": {},
   "outputs": [
    {
     "data": {
      "text/html": [
       "<div>\n",
       "<style scoped>\n",
       "    .dataframe tbody tr th:only-of-type {\n",
       "        vertical-align: middle;\n",
       "    }\n",
       "\n",
       "    .dataframe tbody tr th {\n",
       "        vertical-align: top;\n",
       "    }\n",
       "\n",
       "    .dataframe thead th {\n",
       "        text-align: right;\n",
       "    }\n",
       "</style>\n",
       "<table border=\"1\" class=\"dataframe\">\n",
       "  <thead>\n",
       "    <tr style=\"text-align: right;\">\n",
       "      <th>event_name</th>\n",
       "      <th>product_page</th>\n",
       "      <th>product_cart</th>\n",
       "      <th>purchase</th>\n",
       "    </tr>\n",
       "    <tr>\n",
       "      <th>group</th>\n",
       "      <th></th>\n",
       "      <th></th>\n",
       "      <th></th>\n",
       "    </tr>\n",
       "  </thead>\n",
       "  <tbody>\n",
       "    <tr>\n",
       "      <th>A</th>\n",
       "      <td>4726</td>\n",
       "      <td>2260</td>\n",
       "      <td>2434</td>\n",
       "    </tr>\n",
       "    <tr>\n",
       "      <th>B</th>\n",
       "      <td>3651</td>\n",
       "      <td>1881</td>\n",
       "      <td>1851</td>\n",
       "    </tr>\n",
       "  </tbody>\n",
       "</table>\n",
       "</div>"
      ],
      "text/plain": [
       "event_name  product_page  product_cart  purchase\n",
       "group                                           \n",
       "A                   4726          2260      2434\n",
       "B                   3651          1881      1851"
      ]
     },
     "metadata": {},
     "output_type": "display_data"
    }
   ],
   "source": [
    "# Agrupo usuarios unicos por grupo y tipo de evento con datos filtrados\n",
    "embudo_limpio = events_clean.groupby(['group', 'event_name'])['user_id'].nunique().unstack().fillna(0).astype(int)\n",
    "\n",
    "# me aseguro de tener el orden correcto\n",
    "embudo_limpio = embudo_limpio[['product_page', 'product_cart', 'purchase']]\n",
    "\n",
    "display(embudo_limpio)\n"
   ]
  },
  {
   "cell_type": "code",
   "execution_count": 18,
   "metadata": {},
   "outputs": [
    {
     "name": "stdout",
     "output_type": "stream",
     "text": [
      "Z-test: Page → Cart\n",
      "Z = -3.3583, p-value = 0.9996\n"
     ]
    }
   ],
   "source": [
    "page_A = embudo_limpio.loc['A', 'product_page']\n",
    "page_B = embudo_limpio.loc['B', 'product_page']\n",
    "cart_A = embudo_limpio.loc['A', 'product_cart']\n",
    "cart_B = embudo_limpio.loc['B', 'product_cart']\n",
    "\n",
    "# Z-test para proporciones\n",
    "counts_cart = [cart_A, cart_B]\n",
    "nobs_cart = [page_A, page_B]\n",
    "\n",
    "zstat_cart, pval_cart = proportions_ztest(count=counts_cart, nobs=nobs_cart, alternative='larger')\n",
    "print(f\"Z-test: Page → Cart\\nZ = {zstat_cart:.4f}, p-value = {pval_cart:.4f}\")"
   ]
  },
  {
   "cell_type": "code",
   "execution_count": 19,
   "metadata": {},
   "outputs": [
    {
     "name": "stdout",
     "output_type": "stream",
     "text": [
      "\n",
      "Z-test: Page → Purchase\n",
      "Z = 0.7299, p-value = 0.2327\n"
     ]
    }
   ],
   "source": [
    "purchase_A = embudo_limpio.loc['A', 'purchase']\n",
    "purchase_B = embudo_limpio.loc['B', 'purchase']\n",
    "\n",
    "counts_purchase = [purchase_A, purchase_B]\n",
    "nobs_purchase = [page_A, page_B]\n",
    "\n",
    "zstat_purchase, pval_purchase = proportions_ztest(count=counts_purchase, nobs=nobs_purchase, alternative='larger')\n",
    "print(f\"\\nZ-test: Page → Purchase\\nZ = {zstat_purchase:.4f}, p-value = {pval_purchase:.4f}\")"
   ]
  },
  {
   "cell_type": "markdown",
   "metadata": {},
   "source": [
    "<div class=\"alert alert-block alert-success\">\n",
    "<b>Celda [19]</b> <a class=\"tocSkip\"></a><br>\n",
    "La repetición de pruebas Z en los datos filtrados es un buen enfoque para validar tus resultados. \n",
    "</div>\n"
   ]
  },
  {
   "cell_type": "markdown",
   "metadata": {},
   "source": [
    "## Evaluación estadística final de la prueba A/B (con datos filtrados)\n",
    "\n",
    "Después de limpiar la muestra eliminando usuarios duplicados entre grupos y ajustando la base de eventos, se reaplicaron las pruebas estadísticas sobre el embudo de conversión.\n",
    "\n",
    "### Resultados:\n",
    "- **Conversión de página a carrito (`product_page → product_cart`)**:\n",
    "  - Z = -3.36, p = 0.9996 → El grupo B no mostró una mejora significativa. De hecho, su conversión fue levemente inferior a la del grupo A.\n",
    "  \n",
    "- **Conversión de página a compra (`product_page → purchase`)**:\n",
    "  - Z = 0.73, p = 0.2327 → No se encontró diferencia significativa en la tasa de conversión final entre los grupos.\n",
    "\n",
    "### Conclusión:\n",
    "> Con base en los datos depurados y el análisis estadístico, **no hay evidencia significativa que respalde una mejora en el rendimiento del nuevo sistema de recomendaciones (grupo B)**.\n",
    ">\n",
    "> Por tanto, se recomienda **mantener el sistema actual (grupo A)** y no implementar el nuevo sistema hasta realizar mejoras adicionales o nuevas pruebas con mayor robustez experimental.\n"
   ]
  },
  {
   "cell_type": "markdown",
   "metadata": {},
   "source": [
    "## Conclusiones del Análisis Exploratorio (EDA) y de la Prueba A/B\n",
    "\n",
    "### Análisis Exploratorio de Datos (EDA)\n",
    "\n",
    "Durante la fase exploratoria se identificaron las siguientes observaciones clave:\n",
    "\n",
    "- **No hubo valores nulos relevantes** excepto en la columna `details` del evento `purchase`, que es esperable cuando no aplica.\n",
    "- **No se encontraron duplicados** en los datos tras revisión inicial, pero sí **usuarios que aparecían en ambos grupos de prueba (A y B)**. Estos fueron excluidos para preservar la validez del experimento.\n",
    "- El número de eventos **no está distribuido equitativamente entre los grupos**: el grupo B tuvo un menor número de eventos por usuario, confirmado con una prueba T (p < 0.001).\n",
    "- La actividad de los usuarios **aumentó hasta el 21 de diciembre** (último día de incorporación) y disminuyó hacia el cierre del experimento. Este comportamiento es esperado y no muestra anomalías.\n",
    "- Se verificó que **no hubo campañas de marketing coincidentes** con el periodo de prueba, lo que reduce el riesgo de sesgos externos.\n",
    "\n",
    "### Resultados de la Prueba A/B\n",
    "\n",
    "Tras limpiar los datos y asegurar las condiciones necesarias (usuarios únicos por grupo, fechas correctas), se evaluaron las conversiones en el embudo:\n",
    "\n",
    "- **Conversión de `product_page → product_cart`**:\n",
    "  - Grupo A: 47.7%\n",
    "  - Grupo B: 51.1%\n",
    "  - Resultado: **p = 0.9996** → no significativo\n",
    "\n",
    "- **Conversión de `product_page → purchase`**:\n",
    "  - Grupo A: 51.5%\n",
    "  - Grupo B: 50.4%\n",
    "  - Resultado: **p = 0.2327** → no significativo\n",
    "\n",
    "### Conclusión Final\n",
    "\n",
    "> A pesar de ligeras diferencias aparentes en las tasas de conversión, **no se encontraron diferencias estadísticamente significativas** entre los grupos A y B en ninguna etapa del embudo analizado.  \n",
    "> Por tanto, no se recomienda implementar el nuevo sistema de recomendaciones. Sería más adecuado mantener el sistema actual e iterar con nuevas propuestas y pruebas en el futuro.\n"
   ]
  },
  {
   "cell_type": "markdown",
   "metadata": {},
   "source": [
    "<div class=\"alert alert-block alert-success\">\n",
    "<b>Comentario final</b> <a class=\"tocSkip\"></a><br>\n",
    "¡Muy buen trabajo! A lo largo del proyecto mostraste fortalezas muy claras:\n",
    "<br><br>\n",
    "• Aplicaste una exploración inicial exhaustiva con funciones como <code>info()</code> y <code>describe()</code>.\n",
    "<br>\n",
    "• Realizaste una limpieza de datos consciente, eliminando duplicados y manejando fechas correctamente.\n",
    "<br>\n",
    "• Usaste visualizaciones pertinentes que mejoran la comprensión del problema, como el embudo de conversión y la distribución de eventos.\n",
    "<br>\n",
    "• Implementaste pruebas estadísticas adecuadas y discutiste sus resultados de manera clara.\n",
    "<br><br>\n",
    "Felicidades!\n",
    "</div>\n"
   ]
  }
 ],
 "metadata": {
  "kernelspec": {
   "display_name": "Python 3 (ipykernel)",
   "language": "python",
   "name": "python3"
  },
  "language_info": {
   "codemirror_mode": {
    "name": "ipython",
    "version": 3
   },
   "file_extension": ".py",
   "mimetype": "text/x-python",
   "name": "python",
   "nbconvert_exporter": "python",
   "pygments_lexer": "ipython3",
   "version": "3.9.23"
  }
 },
 "nbformat": 4,
 "nbformat_minor": 4
}
